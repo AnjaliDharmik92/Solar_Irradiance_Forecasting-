{
  "cells": [
    {
      "cell_type": "markdown",
      "metadata": {
        "id": "7-BUTgU3lTD9"
      },
      "source": [
        "# Setup"
      ]
    },
    {
      "cell_type": "code",
      "execution_count": 1,
      "metadata": {
        "id": "AIAuAhVdklXV"
      },
      "outputs": [],
      "source": [
        "# import all required packages\n",
        "import os\n",
        "import datetime\n",
        "\n",
        "import IPython\n",
        "import IPython.display\n",
        "import matplotlib as mpl\n",
        "import matplotlib.pyplot as plt\n",
        "import numpy as np\n",
        "import pandas as pd\n",
        "import seaborn as sns\n",
        "import tensorflow as tf\n",
        "import statsmodels.api as sm\n",
        "\n",
        "mpl.rcParams['figure.figsize'] = (8, 6)\n",
        "mpl.rcParams['axes.grid'] = False\n",
        "\n",
        "import warnings\n",
        "warnings.filterwarnings('ignore')"
      ]
    },
    {
      "cell_type": "code",
      "execution_count": 2,
      "metadata": {
        "colab": {
          "base_uri": "https://localhost:8080/",
          "height": 429
        },
        "id": "H0RtvJsNlWBr",
        "outputId": "de1bec48-67bf-4d28-f00b-f994a9fa08d7"
      },
      "outputs": [
        {
          "output_type": "execute_result",
          "data": {
            "text/plain": [
              "             timeStamp  ghi    Year  Month  Day  Hour  Minute  dwsw  \\\n",
              "0  2014-01-02 08:00:00  0.0  2014.0    1.0  2.0   8.0     0.0   0.0   \n",
              "1  2014-01-02 08:01:00  0.0  2014.0    1.0  2.0   8.0     1.0   0.0   \n",
              "2  2014-01-02 08:02:00  0.0  2014.0    1.0  2.0   8.0     2.0   0.0   \n",
              "3  2014-01-02 08:03:00  0.0  2014.0    1.0  2.0   8.0     3.0   0.0   \n",
              "4  2014-01-02 08:04:00  0.0  2014.0    1.0  2.0   8.0     4.0   0.0   \n",
              "\n",
              "   cloud_cover  precipitation  ...  ENT(G)   AVG(B)   STD(B)  ENT(B)  AVG(RB)  \\\n",
              "0          2.0            0.0  ...  5.3735  155.943  24.4446  5.1713   1.0168   \n",
              "1          2.0            0.0  ...  5.3735  155.943  24.4446  5.1713   1.0168   \n",
              "2          2.0            0.0  ...  5.3735  155.943  24.4446  5.1713   1.0168   \n",
              "3          2.0            0.0  ...  5.3735  155.943  24.4446  5.1713   1.0168   \n",
              "4          2.0            0.0  ...  5.3735  155.943  24.4446  5.1713   1.0168   \n",
              "\n",
              "   STD(RB)  ENT(RB)  AVG(NRB)  STD(NRB)  ENT(NRB)  \n",
              "0   0.0989   3.7791    0.0062    0.0439     2.882  \n",
              "1   0.0989   3.7791    0.0062    0.0439     2.882  \n",
              "2   0.0989   3.7791    0.0062    0.0439     2.882  \n",
              "3   0.0989   3.7791    0.0062    0.0439     2.882  \n",
              "4   0.0989   3.7791    0.0062    0.0439     2.882  \n",
              "\n",
              "[5 rows x 34 columns]"
            ],
            "text/html": [
              "\n",
              "  <div id=\"df-f2141cd2-2ce1-466a-ac6a-ef7455b9f01a\" class=\"colab-df-container\">\n",
              "    <div>\n",
              "<style scoped>\n",
              "    .dataframe tbody tr th:only-of-type {\n",
              "        vertical-align: middle;\n",
              "    }\n",
              "\n",
              "    .dataframe tbody tr th {\n",
              "        vertical-align: top;\n",
              "    }\n",
              "\n",
              "    .dataframe thead th {\n",
              "        text-align: right;\n",
              "    }\n",
              "</style>\n",
              "<table border=\"1\" class=\"dataframe\">\n",
              "  <thead>\n",
              "    <tr style=\"text-align: right;\">\n",
              "      <th></th>\n",
              "      <th>timeStamp</th>\n",
              "      <th>ghi</th>\n",
              "      <th>Year</th>\n",
              "      <th>Month</th>\n",
              "      <th>Day</th>\n",
              "      <th>Hour</th>\n",
              "      <th>Minute</th>\n",
              "      <th>dwsw</th>\n",
              "      <th>cloud_cover</th>\n",
              "      <th>precipitation</th>\n",
              "      <th>...</th>\n",
              "      <th>ENT(G)</th>\n",
              "      <th>AVG(B)</th>\n",
              "      <th>STD(B)</th>\n",
              "      <th>ENT(B)</th>\n",
              "      <th>AVG(RB)</th>\n",
              "      <th>STD(RB)</th>\n",
              "      <th>ENT(RB)</th>\n",
              "      <th>AVG(NRB)</th>\n",
              "      <th>STD(NRB)</th>\n",
              "      <th>ENT(NRB)</th>\n",
              "    </tr>\n",
              "  </thead>\n",
              "  <tbody>\n",
              "    <tr>\n",
              "      <th>0</th>\n",
              "      <td>2014-01-02 08:00:00</td>\n",
              "      <td>0.0</td>\n",
              "      <td>2014.0</td>\n",
              "      <td>1.0</td>\n",
              "      <td>2.0</td>\n",
              "      <td>8.0</td>\n",
              "      <td>0.0</td>\n",
              "      <td>0.0</td>\n",
              "      <td>2.0</td>\n",
              "      <td>0.0</td>\n",
              "      <td>...</td>\n",
              "      <td>5.3735</td>\n",
              "      <td>155.943</td>\n",
              "      <td>24.4446</td>\n",
              "      <td>5.1713</td>\n",
              "      <td>1.0168</td>\n",
              "      <td>0.0989</td>\n",
              "      <td>3.7791</td>\n",
              "      <td>0.0062</td>\n",
              "      <td>0.0439</td>\n",
              "      <td>2.882</td>\n",
              "    </tr>\n",
              "    <tr>\n",
              "      <th>1</th>\n",
              "      <td>2014-01-02 08:01:00</td>\n",
              "      <td>0.0</td>\n",
              "      <td>2014.0</td>\n",
              "      <td>1.0</td>\n",
              "      <td>2.0</td>\n",
              "      <td>8.0</td>\n",
              "      <td>1.0</td>\n",
              "      <td>0.0</td>\n",
              "      <td>2.0</td>\n",
              "      <td>0.0</td>\n",
              "      <td>...</td>\n",
              "      <td>5.3735</td>\n",
              "      <td>155.943</td>\n",
              "      <td>24.4446</td>\n",
              "      <td>5.1713</td>\n",
              "      <td>1.0168</td>\n",
              "      <td>0.0989</td>\n",
              "      <td>3.7791</td>\n",
              "      <td>0.0062</td>\n",
              "      <td>0.0439</td>\n",
              "      <td>2.882</td>\n",
              "    </tr>\n",
              "    <tr>\n",
              "      <th>2</th>\n",
              "      <td>2014-01-02 08:02:00</td>\n",
              "      <td>0.0</td>\n",
              "      <td>2014.0</td>\n",
              "      <td>1.0</td>\n",
              "      <td>2.0</td>\n",
              "      <td>8.0</td>\n",
              "      <td>2.0</td>\n",
              "      <td>0.0</td>\n",
              "      <td>2.0</td>\n",
              "      <td>0.0</td>\n",
              "      <td>...</td>\n",
              "      <td>5.3735</td>\n",
              "      <td>155.943</td>\n",
              "      <td>24.4446</td>\n",
              "      <td>5.1713</td>\n",
              "      <td>1.0168</td>\n",
              "      <td>0.0989</td>\n",
              "      <td>3.7791</td>\n",
              "      <td>0.0062</td>\n",
              "      <td>0.0439</td>\n",
              "      <td>2.882</td>\n",
              "    </tr>\n",
              "    <tr>\n",
              "      <th>3</th>\n",
              "      <td>2014-01-02 08:03:00</td>\n",
              "      <td>0.0</td>\n",
              "      <td>2014.0</td>\n",
              "      <td>1.0</td>\n",
              "      <td>2.0</td>\n",
              "      <td>8.0</td>\n",
              "      <td>3.0</td>\n",
              "      <td>0.0</td>\n",
              "      <td>2.0</td>\n",
              "      <td>0.0</td>\n",
              "      <td>...</td>\n",
              "      <td>5.3735</td>\n",
              "      <td>155.943</td>\n",
              "      <td>24.4446</td>\n",
              "      <td>5.1713</td>\n",
              "      <td>1.0168</td>\n",
              "      <td>0.0989</td>\n",
              "      <td>3.7791</td>\n",
              "      <td>0.0062</td>\n",
              "      <td>0.0439</td>\n",
              "      <td>2.882</td>\n",
              "    </tr>\n",
              "    <tr>\n",
              "      <th>4</th>\n",
              "      <td>2014-01-02 08:04:00</td>\n",
              "      <td>0.0</td>\n",
              "      <td>2014.0</td>\n",
              "      <td>1.0</td>\n",
              "      <td>2.0</td>\n",
              "      <td>8.0</td>\n",
              "      <td>4.0</td>\n",
              "      <td>0.0</td>\n",
              "      <td>2.0</td>\n",
              "      <td>0.0</td>\n",
              "      <td>...</td>\n",
              "      <td>5.3735</td>\n",
              "      <td>155.943</td>\n",
              "      <td>24.4446</td>\n",
              "      <td>5.1713</td>\n",
              "      <td>1.0168</td>\n",
              "      <td>0.0989</td>\n",
              "      <td>3.7791</td>\n",
              "      <td>0.0062</td>\n",
              "      <td>0.0439</td>\n",
              "      <td>2.882</td>\n",
              "    </tr>\n",
              "  </tbody>\n",
              "</table>\n",
              "<p>5 rows × 34 columns</p>\n",
              "</div>\n",
              "    <div class=\"colab-df-buttons\">\n",
              "\n",
              "  <div class=\"colab-df-container\">\n",
              "    <button class=\"colab-df-convert\" onclick=\"convertToInteractive('df-f2141cd2-2ce1-466a-ac6a-ef7455b9f01a')\"\n",
              "            title=\"Convert this dataframe to an interactive table.\"\n",
              "            style=\"display:none;\">\n",
              "\n",
              "  <svg xmlns=\"http://www.w3.org/2000/svg\" height=\"24px\" viewBox=\"0 -960 960 960\">\n",
              "    <path d=\"M120-120v-720h720v720H120Zm60-500h600v-160H180v160Zm220 220h160v-160H400v160Zm0 220h160v-160H400v160ZM180-400h160v-160H180v160Zm440 0h160v-160H620v160ZM180-180h160v-160H180v160Zm440 0h160v-160H620v160Z\"/>\n",
              "  </svg>\n",
              "    </button>\n",
              "\n",
              "  <style>\n",
              "    .colab-df-container {\n",
              "      display:flex;\n",
              "      gap: 12px;\n",
              "    }\n",
              "\n",
              "    .colab-df-convert {\n",
              "      background-color: #E8F0FE;\n",
              "      border: none;\n",
              "      border-radius: 50%;\n",
              "      cursor: pointer;\n",
              "      display: none;\n",
              "      fill: #1967D2;\n",
              "      height: 32px;\n",
              "      padding: 0 0 0 0;\n",
              "      width: 32px;\n",
              "    }\n",
              "\n",
              "    .colab-df-convert:hover {\n",
              "      background-color: #E2EBFA;\n",
              "      box-shadow: 0px 1px 2px rgba(60, 64, 67, 0.3), 0px 1px 3px 1px rgba(60, 64, 67, 0.15);\n",
              "      fill: #174EA6;\n",
              "    }\n",
              "\n",
              "    .colab-df-buttons div {\n",
              "      margin-bottom: 4px;\n",
              "    }\n",
              "\n",
              "    [theme=dark] .colab-df-convert {\n",
              "      background-color: #3B4455;\n",
              "      fill: #D2E3FC;\n",
              "    }\n",
              "\n",
              "    [theme=dark] .colab-df-convert:hover {\n",
              "      background-color: #434B5C;\n",
              "      box-shadow: 0px 1px 3px 1px rgba(0, 0, 0, 0.15);\n",
              "      filter: drop-shadow(0px 1px 2px rgba(0, 0, 0, 0.3));\n",
              "      fill: #FFFFFF;\n",
              "    }\n",
              "  </style>\n",
              "\n",
              "    <script>\n",
              "      const buttonEl =\n",
              "        document.querySelector('#df-f2141cd2-2ce1-466a-ac6a-ef7455b9f01a button.colab-df-convert');\n",
              "      buttonEl.style.display =\n",
              "        google.colab.kernel.accessAllowed ? 'block' : 'none';\n",
              "\n",
              "      async function convertToInteractive(key) {\n",
              "        const element = document.querySelector('#df-f2141cd2-2ce1-466a-ac6a-ef7455b9f01a');\n",
              "        const dataTable =\n",
              "          await google.colab.kernel.invokeFunction('convertToInteractive',\n",
              "                                                    [key], {});\n",
              "        if (!dataTable) return;\n",
              "\n",
              "        const docLinkHtml = 'Like what you see? Visit the ' +\n",
              "          '<a target=\"_blank\" href=https://colab.research.google.com/notebooks/data_table.ipynb>data table notebook</a>'\n",
              "          + ' to learn more about interactive tables.';\n",
              "        element.innerHTML = '';\n",
              "        dataTable['output_type'] = 'display_data';\n",
              "        await google.colab.output.renderOutput(dataTable, element);\n",
              "        const docLink = document.createElement('div');\n",
              "        docLink.innerHTML = docLinkHtml;\n",
              "        element.appendChild(docLink);\n",
              "      }\n",
              "    </script>\n",
              "  </div>\n",
              "\n",
              "\n",
              "<div id=\"df-27c38d88-192a-47c9-9b39-3da11d55fefb\">\n",
              "  <button class=\"colab-df-quickchart\" onclick=\"quickchart('df-27c38d88-192a-47c9-9b39-3da11d55fefb')\"\n",
              "            title=\"Suggest charts.\"\n",
              "            style=\"display:none;\">\n",
              "\n",
              "<svg xmlns=\"http://www.w3.org/2000/svg\" height=\"24px\"viewBox=\"0 0 24 24\"\n",
              "     width=\"24px\">\n",
              "    <g>\n",
              "        <path d=\"M19 3H5c-1.1 0-2 .9-2 2v14c0 1.1.9 2 2 2h14c1.1 0 2-.9 2-2V5c0-1.1-.9-2-2-2zM9 17H7v-7h2v7zm4 0h-2V7h2v10zm4 0h-2v-4h2v4z\"/>\n",
              "    </g>\n",
              "</svg>\n",
              "  </button>\n",
              "\n",
              "<style>\n",
              "  .colab-df-quickchart {\n",
              "      --bg-color: #E8F0FE;\n",
              "      --fill-color: #1967D2;\n",
              "      --hover-bg-color: #E2EBFA;\n",
              "      --hover-fill-color: #174EA6;\n",
              "      --disabled-fill-color: #AAA;\n",
              "      --disabled-bg-color: #DDD;\n",
              "  }\n",
              "\n",
              "  [theme=dark] .colab-df-quickchart {\n",
              "      --bg-color: #3B4455;\n",
              "      --fill-color: #D2E3FC;\n",
              "      --hover-bg-color: #434B5C;\n",
              "      --hover-fill-color: #FFFFFF;\n",
              "      --disabled-bg-color: #3B4455;\n",
              "      --disabled-fill-color: #666;\n",
              "  }\n",
              "\n",
              "  .colab-df-quickchart {\n",
              "    background-color: var(--bg-color);\n",
              "    border: none;\n",
              "    border-radius: 50%;\n",
              "    cursor: pointer;\n",
              "    display: none;\n",
              "    fill: var(--fill-color);\n",
              "    height: 32px;\n",
              "    padding: 0;\n",
              "    width: 32px;\n",
              "  }\n",
              "\n",
              "  .colab-df-quickchart:hover {\n",
              "    background-color: var(--hover-bg-color);\n",
              "    box-shadow: 0 1px 2px rgba(60, 64, 67, 0.3), 0 1px 3px 1px rgba(60, 64, 67, 0.15);\n",
              "    fill: var(--button-hover-fill-color);\n",
              "  }\n",
              "\n",
              "  .colab-df-quickchart-complete:disabled,\n",
              "  .colab-df-quickchart-complete:disabled:hover {\n",
              "    background-color: var(--disabled-bg-color);\n",
              "    fill: var(--disabled-fill-color);\n",
              "    box-shadow: none;\n",
              "  }\n",
              "\n",
              "  .colab-df-spinner {\n",
              "    border: 2px solid var(--fill-color);\n",
              "    border-color: transparent;\n",
              "    border-bottom-color: var(--fill-color);\n",
              "    animation:\n",
              "      spin 1s steps(1) infinite;\n",
              "  }\n",
              "\n",
              "  @keyframes spin {\n",
              "    0% {\n",
              "      border-color: transparent;\n",
              "      border-bottom-color: var(--fill-color);\n",
              "      border-left-color: var(--fill-color);\n",
              "    }\n",
              "    20% {\n",
              "      border-color: transparent;\n",
              "      border-left-color: var(--fill-color);\n",
              "      border-top-color: var(--fill-color);\n",
              "    }\n",
              "    30% {\n",
              "      border-color: transparent;\n",
              "      border-left-color: var(--fill-color);\n",
              "      border-top-color: var(--fill-color);\n",
              "      border-right-color: var(--fill-color);\n",
              "    }\n",
              "    40% {\n",
              "      border-color: transparent;\n",
              "      border-right-color: var(--fill-color);\n",
              "      border-top-color: var(--fill-color);\n",
              "    }\n",
              "    60% {\n",
              "      border-color: transparent;\n",
              "      border-right-color: var(--fill-color);\n",
              "    }\n",
              "    80% {\n",
              "      border-color: transparent;\n",
              "      border-right-color: var(--fill-color);\n",
              "      border-bottom-color: var(--fill-color);\n",
              "    }\n",
              "    90% {\n",
              "      border-color: transparent;\n",
              "      border-bottom-color: var(--fill-color);\n",
              "    }\n",
              "  }\n",
              "</style>\n",
              "\n",
              "  <script>\n",
              "    async function quickchart(key) {\n",
              "      const quickchartButtonEl =\n",
              "        document.querySelector('#' + key + ' button');\n",
              "      quickchartButtonEl.disabled = true;  // To prevent multiple clicks.\n",
              "      quickchartButtonEl.classList.add('colab-df-spinner');\n",
              "      try {\n",
              "        const charts = await google.colab.kernel.invokeFunction(\n",
              "            'suggestCharts', [key], {});\n",
              "      } catch (error) {\n",
              "        console.error('Error during call to suggestCharts:', error);\n",
              "      }\n",
              "      quickchartButtonEl.classList.remove('colab-df-spinner');\n",
              "      quickchartButtonEl.classList.add('colab-df-quickchart-complete');\n",
              "    }\n",
              "    (() => {\n",
              "      let quickchartButtonEl =\n",
              "        document.querySelector('#df-27c38d88-192a-47c9-9b39-3da11d55fefb button');\n",
              "      quickchartButtonEl.style.display =\n",
              "        google.colab.kernel.accessAllowed ? 'block' : 'none';\n",
              "    })();\n",
              "  </script>\n",
              "</div>\n",
              "    </div>\n",
              "  </div>\n"
            ]
          },
          "metadata": {},
          "execution_count": 2
        }
      ],
      "source": [
        "processed_data_path = '/content/drive/MyDrive/Folsom_sky_images/processed_data.csv'\n",
        "irradiance_data = pd.read_csv(processed_data_path)\n",
        "irradiance_data.head()"
      ]
    },
    {
      "cell_type": "code",
      "execution_count": 3,
      "metadata": {
        "colab": {
          "base_uri": "https://localhost:8080/"
        },
        "id": "rPR7tTj5lulU",
        "outputId": "7bb39034-4a82-4d0f-ddb7-315fe3e08b2f"
      },
      "outputs": [
        {
          "output_type": "execute_result",
          "data": {
            "text/plain": [
              "(1551888, 34)"
            ]
          },
          "metadata": {},
          "execution_count": 3
        }
      ],
      "source": [
        "irradiance_data.shape"
      ]
    },
    {
      "cell_type": "code",
      "execution_count": 4,
      "metadata": {
        "colab": {
          "base_uri": "https://localhost:8080/"
        },
        "id": "8K3qC5RK7g8S",
        "outputId": "8763779c-a059-4b4b-9947-16d1ae0b995d"
      },
      "outputs": [
        {
          "output_type": "execute_result",
          "data": {
            "text/plain": [
              "Index(['timeStamp', 'ghi', 'Year', 'Month', 'Day', 'Hour', 'Minute', 'dwsw',\n",
              "       'cloud_cover', 'precipitation', 'pressure', 'wind-u', 'wind-v',\n",
              "       'temperature', 'rel_humidity', 'cloud_cover_ratio',\n",
              "       'satellite_image_AVG', 'satellite_image_STD', 'satellite_image_ENT',\n",
              "       'AVG(R)', 'STD(R)', 'ENT(R)', 'AVG(G)', 'STD(G)', 'ENT(G)', 'AVG(B)',\n",
              "       'STD(B)', 'ENT(B)', 'AVG(RB)', 'STD(RB)', 'ENT(RB)', 'AVG(NRB)',\n",
              "       'STD(NRB)', 'ENT(NRB)'],\n",
              "      dtype='object')"
            ]
          },
          "metadata": {},
          "execution_count": 4
        }
      ],
      "source": [
        "irradiance_data.columns"
      ]
    },
    {
      "cell_type": "markdown",
      "metadata": {
        "id": "iPjfAA1elyMe"
      },
      "source": [
        "# Split Data into Training and Testing Sets"
      ]
    },
    {
      "cell_type": "code",
      "execution_count": 5,
      "metadata": {
        "id": "bUF1tbESlvnT"
      },
      "outputs": [],
      "source": [
        "column_indices = {name: i for i, name in enumerate(irradiance_data.columns)}\n",
        "\n",
        "irradiance_data = irradiance_data.drop([\"timeStamp\"],axis=1)\n",
        "\n",
        "train_df = irradiance_data[irradiance_data.Year <= 2015]\n",
        "test_df = irradiance_data[irradiance_data.Year == 2016]\n",
        "\n",
        "X_train = train_df.drop([\"Year\",\"ghi\"],axis=1)\n",
        "Y_train = pd.DataFrame(train_df.loc[:,\"ghi\"])\n",
        "\n",
        "X_test = test_df.drop([\"Year\",\"ghi\"],axis=1)\n",
        "Y_test = pd.DataFrame(test_df.loc[:,\"ghi\"])"
      ]
    },
    {
      "cell_type": "code",
      "execution_count": 6,
      "metadata": {
        "colab": {
          "base_uri": "https://localhost:8080/"
        },
        "id": "Ek0287u_5qK7",
        "outputId": "dc1beab6-b305-431c-d2be-6e44d6d0f676"
      },
      "outputs": [
        {
          "output_type": "execute_result",
          "data": {
            "text/plain": [
              "Index(['Month', 'Day', 'Hour', 'Minute', 'dwsw', 'cloud_cover',\n",
              "       'precipitation', 'pressure', 'wind-u', 'wind-v', 'temperature',\n",
              "       'rel_humidity', 'cloud_cover_ratio', 'satellite_image_AVG',\n",
              "       'satellite_image_STD', 'satellite_image_ENT', 'AVG(R)', 'STD(R)',\n",
              "       'ENT(R)', 'AVG(G)', 'STD(G)', 'ENT(G)', 'AVG(B)', 'STD(B)', 'ENT(B)',\n",
              "       'AVG(RB)', 'STD(RB)', 'ENT(RB)', 'AVG(NRB)', 'STD(NRB)', 'ENT(NRB)'],\n",
              "      dtype='object')"
            ]
          },
          "metadata": {},
          "execution_count": 6
        }
      ],
      "source": [
        "X_train.columns"
      ]
    },
    {
      "cell_type": "code",
      "execution_count": 7,
      "metadata": {
        "colab": {
          "base_uri": "https://localhost:8080/"
        },
        "id": "FOAO_kcGmBQE",
        "outputId": "c3240623-229f-4a50-85d6-f1771a93f5a9"
      },
      "outputs": [
        {
          "output_type": "execute_result",
          "data": {
            "text/plain": [
              "(1029600, 31)"
            ]
          },
          "metadata": {},
          "execution_count": 7
        }
      ],
      "source": [
        "X_train.shape"
      ]
    },
    {
      "cell_type": "markdown",
      "metadata": {
        "id": "HTgosg0EmF9Y"
      },
      "source": [
        "# Normalize the data"
      ]
    },
    {
      "cell_type": "code",
      "execution_count": 8,
      "metadata": {
        "id": "wCB-5CBMmJIc"
      },
      "outputs": [],
      "source": [
        "from sklearn.preprocessing import MinMaxScaler\n",
        "\n",
        "scaler = MinMaxScaler(feature_range=(0,1))\n",
        "X_train_scaler = scaler.fit_transform(X_train.values)\n",
        "X_test_scaler = scaler.transform(X_test.values)"
      ]
    },
    {
      "cell_type": "markdown",
      "metadata": {
        "id": "jnGfb7XzmM0k"
      },
      "source": [
        "# Data Lags\n",
        "forecast irradiance (GHI) with 30 minute horizon and one minute granularity (IE, predicting t+1, t+2, t+3…, t+30)."
      ]
    },
    {
      "cell_type": "markdown",
      "metadata": {
        "id": "xG5hB-qkrper"
      },
      "source": [
        "# Model Implementation: LSTM"
      ]
    },
    {
      "cell_type": "code",
      "execution_count": 9,
      "metadata": {
        "id": "antKOHW3rssq"
      },
      "outputs": [],
      "source": [
        "trainX = np.reshape(X_train_scaler, (X_train_scaler.shape[0], 1, X_train_scaler.shape[1]))\n",
        "testX = np.reshape(X_test_scaler, (X_test_scaler.shape[0], 1, X_test_scaler.shape[1]))"
      ]
    },
    {
      "cell_type": "code",
      "execution_count": 10,
      "metadata": {
        "colab": {
          "base_uri": "https://localhost:8080/"
        },
        "id": "m-epZMPV57aJ",
        "outputId": "458594db-5151-4948-ef18-890552bd0f38"
      },
      "outputs": [
        {
          "output_type": "stream",
          "name": "stdout",
          "text": [
            "Collecting GPyOpt\n",
            "  Downloading GPyOpt-1.2.6.tar.gz (56 kB)\n",
            "\u001b[?25l     \u001b[90m━━━━━━━━━━━━━━━━━━━━━━━━━━━━━━━━━━━━━━━━\u001b[0m \u001b[32m0.0/56.8 kB\u001b[0m \u001b[31m?\u001b[0m eta \u001b[36m-:--:--\u001b[0m\r\u001b[2K     \u001b[90m━━━━━━━━━━━━━━━━━━━━━━━━━━━━━━━━━━━━━━━━\u001b[0m \u001b[32m56.8/56.8 kB\u001b[0m \u001b[31m1.5 MB/s\u001b[0m eta \u001b[36m0:00:00\u001b[0m\n",
            "\u001b[?25h  Preparing metadata (setup.py) ... \u001b[?25l\u001b[?25hdone\n",
            "Requirement already satisfied: numpy>=1.7 in /usr/local/lib/python3.10/dist-packages (from GPyOpt) (1.23.5)\n",
            "Requirement already satisfied: scipy>=0.16 in /usr/local/lib/python3.10/dist-packages (from GPyOpt) (1.11.3)\n",
            "Collecting GPy>=1.8 (from GPyOpt)\n",
            "  Downloading GPy-1.10.0.tar.gz (959 kB)\n",
            "\u001b[2K     \u001b[90m━━━━━━━━━━━━━━━━━━━━━━━━━━━━━━━━━━━━━━━━\u001b[0m \u001b[32m959.4/959.4 kB\u001b[0m \u001b[31m15.3 MB/s\u001b[0m eta \u001b[36m0:00:00\u001b[0m\n",
            "\u001b[?25h  Preparing metadata (setup.py) ... \u001b[?25l\u001b[?25hdone\n",
            "Requirement already satisfied: six in /usr/local/lib/python3.10/dist-packages (from GPy>=1.8->GPyOpt) (1.16.0)\n",
            "Collecting paramz>=0.9.0 (from GPy>=1.8->GPyOpt)\n",
            "  Downloading paramz-0.9.5.tar.gz (71 kB)\n",
            "\u001b[2K     \u001b[90m━━━━━━━━━━━━━━━━━━━━━━━━━━━━━━━━━━━━━━━━\u001b[0m \u001b[32m71.3/71.3 kB\u001b[0m \u001b[31m9.0 MB/s\u001b[0m eta \u001b[36m0:00:00\u001b[0m\n",
            "\u001b[?25h  Preparing metadata (setup.py) ... \u001b[?25l\u001b[?25hdone\n",
            "Requirement already satisfied: cython>=0.29 in /usr/local/lib/python3.10/dist-packages (from GPy>=1.8->GPyOpt) (3.0.4)\n",
            "Requirement already satisfied: decorator>=4.0.10 in /usr/local/lib/python3.10/dist-packages (from paramz>=0.9.0->GPy>=1.8->GPyOpt) (4.4.2)\n",
            "Building wheels for collected packages: GPyOpt, GPy, paramz\n",
            "  Building wheel for GPyOpt (setup.py) ... \u001b[?25l\u001b[?25hdone\n",
            "  Created wheel for GPyOpt: filename=GPyOpt-1.2.6-py3-none-any.whl size=83588 sha256=b89b7e2fef0100fafc448866016c1d20b2aabef341d8d495a91bb7062d4e0708\n",
            "  Stored in directory: /root/.cache/pip/wheels/72/17/52/9d818b4c60f733bf49d5cf82bc2758ebbdc57a0471137c37be\n",
            "  Building wheel for GPy (setup.py) ... \u001b[?25l\u001b[?25hdone\n",
            "  Created wheel for GPy: filename=GPy-1.10.0-cp310-cp310-linux_x86_64.whl size=3420176 sha256=02810f713fc10c4a32ed189b107cf9a272133f3f3312704f97880722e218e4e2\n",
            "  Stored in directory: /root/.cache/pip/wheels/27/bd/9f/82ab4216eae088cba864ca0dc1d75699bd4bf6823790fb2f77\n",
            "  Building wheel for paramz (setup.py) ... \u001b[?25l\u001b[?25hdone\n",
            "  Created wheel for paramz: filename=paramz-0.9.5-py3-none-any.whl size=102544 sha256=f9c3593156c5756c228eaca30e92ed0c8c6861f0fcc854e96a73482885d2e5c6\n",
            "  Stored in directory: /root/.cache/pip/wheels/d2/ef/9c/da9ceef7d0ff5287c24365844fc394852c2b79ac3fcf33bf8b\n",
            "Successfully built GPyOpt GPy paramz\n",
            "Installing collected packages: paramz, GPy, GPyOpt\n",
            "Successfully installed GPy-1.10.0 GPyOpt-1.2.6 paramz-0.9.5\n"
          ]
        }
      ],
      "source": [
        "!pip install GPyOpt"
      ]
    },
    {
      "cell_type": "code",
      "execution_count": 11,
      "metadata": {
        "id": "3Inyrgg-rvBq"
      },
      "outputs": [],
      "source": [
        "import numpy as np\n",
        "import tensorflow as tf\n",
        "from tensorflow.keras.models import Sequential\n",
        "from tensorflow.keras.layers import LSTM, Dense\n",
        "from GPyOpt.methods import BayesianOptimization\n",
        "from keras import backend as K\n",
        "\n",
        "# Define rmse metric for keras to use as a loss function\n",
        "def root_mean_squared_error(y_true, y_pred):\n",
        "    return K.sqrt(K.mean(K.square(y_pred - y_true)))"
      ]
    },
    {
      "cell_type": "code",
      "execution_count": 12,
      "metadata": {
        "id": "E9Yc8upFsZV7"
      },
      "outputs": [],
      "source": [
        "# Define the LSTM model\n",
        "model = Sequential()\n",
        "model.add(LSTM(128, input_shape=(trainX.shape[1], trainX.shape[2])))\n",
        "model.add(Dense(1))\n",
        "model.compile(loss=root_mean_squared_error, optimizer='adam')"
      ]
    },
    {
      "cell_type": "code",
      "execution_count": 13,
      "metadata": {
        "colab": {
          "base_uri": "https://localhost:8080/"
        },
        "id": "W90RVlGasaAX",
        "outputId": "17798d66-4048-480f-85a7-ec09bc0d03c6"
      },
      "outputs": [
        {
          "output_type": "stream",
          "name": "stdout",
          "text": [
            "Epoch 1/30\n",
            "14709/14709 - 93s - loss: 124.9942 - val_loss: 86.4500 - 93s/epoch - 6ms/step\n",
            "Epoch 2/30\n",
            "14709/14709 - 74s - loss: 66.4226 - val_loss: 60.5627 - 74s/epoch - 5ms/step\n",
            "Epoch 3/30\n",
            "14709/14709 - 74s - loss: 51.4002 - val_loss: 53.5132 - 74s/epoch - 5ms/step\n",
            "Epoch 4/30\n",
            "14709/14709 - 79s - loss: 45.8036 - val_loss: 49.2219 - 79s/epoch - 5ms/step\n",
            "Epoch 5/30\n",
            "14709/14709 - 72s - loss: 43.0991 - val_loss: 47.4041 - 72s/epoch - 5ms/step\n",
            "Epoch 6/30\n",
            "14709/14709 - 80s - loss: 41.3210 - val_loss: 46.2325 - 80s/epoch - 5ms/step\n",
            "Epoch 7/30\n",
            "14709/14709 - 78s - loss: 39.9330 - val_loss: 45.2115 - 78s/epoch - 5ms/step\n",
            "Epoch 8/30\n",
            "14709/14709 - 78s - loss: 38.8103 - val_loss: 44.1876 - 78s/epoch - 5ms/step\n",
            "Epoch 9/30\n",
            "14709/14709 - 80s - loss: 37.8647 - val_loss: 43.2408 - 80s/epoch - 5ms/step\n",
            "Epoch 10/30\n",
            "14709/14709 - 78s - loss: 37.0793 - val_loss: 42.5072 - 78s/epoch - 5ms/step\n",
            "Epoch 11/30\n",
            "14709/14709 - 72s - loss: 36.4181 - val_loss: 41.9522 - 72s/epoch - 5ms/step\n",
            "Epoch 12/30\n",
            "14709/14709 - 73s - loss: 35.8470 - val_loss: 41.4964 - 73s/epoch - 5ms/step\n",
            "Epoch 13/30\n",
            "14709/14709 - 72s - loss: 35.3513 - val_loss: 41.0352 - 72s/epoch - 5ms/step\n",
            "Epoch 14/30\n",
            "14709/14709 - 80s - loss: 34.9061 - val_loss: 40.5731 - 80s/epoch - 5ms/step\n",
            "Epoch 15/30\n",
            "14709/14709 - 72s - loss: 34.4952 - val_loss: 40.1067 - 72s/epoch - 5ms/step\n",
            "Epoch 16/30\n",
            "14709/14709 - 80s - loss: 34.1107 - val_loss: 39.6892 - 80s/epoch - 5ms/step\n",
            "Epoch 17/30\n",
            "14709/14709 - 72s - loss: 33.7375 - val_loss: 39.3052 - 72s/epoch - 5ms/step\n",
            "Epoch 18/30\n",
            "14709/14709 - 78s - loss: 33.3839 - val_loss: 38.9526 - 78s/epoch - 5ms/step\n",
            "Epoch 19/30\n",
            "14709/14709 - 73s - loss: 33.0513 - val_loss: 38.6718 - 73s/epoch - 5ms/step\n",
            "Epoch 20/30\n",
            "14709/14709 - 74s - loss: 32.7337 - val_loss: 38.4508 - 74s/epoch - 5ms/step\n",
            "Epoch 21/30\n",
            "14709/14709 - 75s - loss: 32.4288 - val_loss: 38.2755 - 75s/epoch - 5ms/step\n",
            "Epoch 22/30\n",
            "14709/14709 - 79s - loss: 32.1371 - val_loss: 38.1306 - 79s/epoch - 5ms/step\n",
            "Epoch 23/30\n",
            "14709/14709 - 72s - loss: 31.8550 - val_loss: 37.9628 - 72s/epoch - 5ms/step\n",
            "Epoch 24/30\n",
            "14709/14709 - 74s - loss: 31.5778 - val_loss: 37.7762 - 74s/epoch - 5ms/step\n",
            "Epoch 25/30\n",
            "14709/14709 - 74s - loss: 31.3257 - val_loss: 37.6665 - 74s/epoch - 5ms/step\n",
            "Epoch 26/30\n",
            "14709/14709 - 79s - loss: 31.0858 - val_loss: 37.6573 - 79s/epoch - 5ms/step\n",
            "Epoch 27/30\n",
            "14709/14709 - 79s - loss: 30.8586 - val_loss: 37.4848 - 79s/epoch - 5ms/step\n",
            "Epoch 28/30\n",
            "14709/14709 - 84s - loss: 30.6431 - val_loss: 37.3627 - 84s/epoch - 6ms/step\n",
            "Epoch 29/30\n",
            "14709/14709 - 82s - loss: 30.4388 - val_loss: 37.2744 - 82s/epoch - 6ms/step\n",
            "Epoch 30/30\n",
            "14709/14709 - 75s - loss: 30.2450 - val_loss: 37.1930 - 75s/epoch - 5ms/step\n"
          ]
        }
      ],
      "source": [
        "# fit network\n",
        "history = model.fit(trainX, Y_train, epochs=30, batch_size=70, validation_data=(testX, Y_test), verbose=2, shuffle=False)"
      ]
    },
    {
      "cell_type": "code",
      "execution_count": 14,
      "metadata": {
        "colab": {
          "base_uri": "https://localhost:8080/",
          "height": 564
        },
        "id": "qq6-Bqs8slVc",
        "outputId": "6f101599-c1b4-49e0-f040-cecb6dd72a6c"
      },
      "outputs": [
        {
          "output_type": "display_data",
          "data": {
            "text/plain": [
              "<Figure size 800x600 with 1 Axes>"
            ],
            "image/png": "[encoded data removed]"
          },
          "metadata": {}
        }
      ],
      "source": [
        "# plot history\n",
        "plt.plot(history.history['loss'], label='train')\n",
        "plt.plot(history.history['val_loss'], label='validation')\n",
        "plt.title('Model training & validation loss')\n",
        "plt.ylabel('RMSE')\n",
        "plt.xlabel('epoch')\n",
        "plt.legend()\n",
        "plt.show()\n"
      ]
    },
    {
      "cell_type": "code",
      "execution_count": 15,
      "metadata": {
        "colab": {
          "base_uri": "https://localhost:8080/"
        },
        "id": "cKctYimtsoFd",
        "outputId": "c24436f6-ef08-4649-8289-5bdb1c63fcdf"
      },
      "outputs": [
        {
          "output_type": "stream",
          "name": "stdout",
          "text": [
            "16322/16322 [==============================] - 48s 3ms/step\n"
          ]
        },
        {
          "output_type": "execute_result",
          "data": {
            "text/plain": [
              "array([[0.86016273],\n",
              "       [0.8280449 ],\n",
              "       [0.8025894 ],\n",
              "       ...,\n",
              "       [4.5601635 ],\n",
              "       [3.3949451 ],\n",
              "       [2.954464  ]], dtype=float32)"
            ]
          },
          "metadata": {},
          "execution_count": 15
        }
      ],
      "source": [
        "yhat = model.predict(testX)\n",
        "yhat"
      ]
    },
    {
      "cell_type": "code",
      "execution_count": 16,
      "metadata": {
        "colab": {
          "base_uri": "https://localhost:8080/"
        },
        "id": "3oREFPtrsqXg",
        "outputId": "e51f990a-71fd-4b4c-8deb-cff6e7851bdc"
      },
      "outputs": [
        {
          "output_type": "stream",
          "name": "stdout",
          "text": [
            "Model Evaluation scores:\n",
            "Test RMSE: 73.593\n",
            "Test R2: 0.937\n",
            "Test MSE: 5415.966\n",
            "Test MAE: 32.086\n"
          ]
        }
      ],
      "source": [
        "# model evaluation\n",
        "from sklearn.metrics import mean_squared_error,mean_absolute_error, r2_score\n",
        "\n",
        "print(\"Model Evaluation scores:\")\n",
        "\n",
        "# calculate RMSE\n",
        "testrmse = root_mean_squared_error(Y_test, yhat)\n",
        "\n",
        "print('Test RMSE: %.3f' % testrmse)\n",
        "# calculate Rsqured\n",
        "r2=r2_score(Y_test, yhat)\n",
        "print('Test R2: %.3f' % r2)\n",
        "\n",
        "# calculate mse\n",
        "mse = mean_squared_error(Y_test, yhat)\n",
        "print('Test MSE: %.3f' % mse)\n",
        "\n",
        "# mean absolute error\n",
        "mae = mean_absolute_error(Y_test, yhat)\n",
        "print('Test MAE: %.3f' % mae)"
      ]
    },
    {
      "cell_type": "markdown",
      "metadata": {
        "id": "UdGvomWys4t7"
      },
      "source": [
        "# Plot Solar Irradiance"
      ]
    },
    {
      "cell_type": "code",
      "execution_count": 17,
      "metadata": {
        "colab": {
          "base_uri": "https://localhost:8080/",
          "height": 564
        },
        "id": "KpzaKlsrs7_Q",
        "outputId": "b417d3e4-87d9-4a87-9a43-6342c5462788"
      },
      "outputs": [
        {
          "output_type": "display_data",
          "data": {
            "text/plain": [
              "<Figure size 1200x600 with 1 Axes>"
            ],
            "image/png": "[encoded data removed]"
          },
          "metadata": {}
        }
      ],
      "source": [
        "import pandas as pd\n",
        "import matplotlib.pyplot as plt\n",
        "\n",
        "# Plot the time series data and forecast\n",
        "plt.figure(figsize=(12, 6))\n",
        "plt.plot(test_df.index, Y_test, label='Actual', color='blue')\n",
        "plt.plot(test_df.index, yhat, label='Forecast', color='red')\n",
        "\n",
        "# Add labels and title\n",
        "plt.xlabel('Index Value')\n",
        "plt.ylabel('Solar Irradiance GHI')\n",
        "plt.title('Time Series with Solar Irradiance Forecast')\n",
        "\n",
        "# Add a legend\n",
        "plt.legend()\n",
        "\n",
        "# Display the plot\n",
        "plt.grid(True)\n",
        "plt.show()"
      ]
    },
    {
      "cell_type": "markdown",
      "metadata": {
        "id": "zi21YdIbmjDF"
      },
      "source": [
        "# Autoregressive LSTM RNN model"
      ]
    },
    {
      "cell_type": "code",
      "execution_count": 18,
      "metadata": {
        "colab": {
          "base_uri": "https://localhost:8080/"
        },
        "id": "eh4IhsNvavIk",
        "outputId": "9aa0ab12-d468-4f57-aa1f-744101422cfe"
      },
      "outputs": [
        {
          "output_type": "stream",
          "name": "stdout",
          "text": [
            "Time Step: 0\n",
            "16322/16322 [==============================] - 34s 2ms/step\n",
            "Time Step: 1\n",
            "16322/16322 [==============================] - 34s 2ms/step\n",
            "Time Step: 2\n",
            "16322/16322 [==============================] - 35s 2ms/step\n",
            "Time Step: 3\n",
            "16322/16322 [==============================] - 35s 2ms/step\n",
            "Time Step: 4\n",
            "16322/16322 [==============================] - 35s 2ms/step\n",
            "Time Step: 5\n",
            "16322/16322 [==============================] - 34s 2ms/step\n",
            "Time Step: 6\n",
            "16322/16322 [==============================] - 34s 2ms/step\n",
            "Time Step: 7\n",
            "16322/16322 [==============================] - 35s 2ms/step\n",
            "Time Step: 8\n",
            "16322/16322 [==============================] - 35s 2ms/step\n",
            "Time Step: 9\n",
            "16322/16322 [==============================] - 34s 2ms/step\n",
            "Time Step: 10\n",
            "16322/16322 [==============================] - 34s 2ms/step\n",
            "Time Step: 11\n",
            "16322/16322 [==============================] - 36s 2ms/step\n",
            "Time Step: 12\n",
            "16322/16322 [==============================] - 35s 2ms/step\n",
            "Time Step: 13\n",
            "16322/16322 [==============================] - 34s 2ms/step\n",
            "Time Step: 14\n",
            "16322/16322 [==============================] - 35s 2ms/step\n",
            "Time Step: 15\n",
            "16322/16322 [==============================] - 34s 2ms/step\n",
            "Time Step: 16\n",
            "16321/16321 [==============================] - 35s 2ms/step\n",
            "Time Step: 17\n",
            "16321/16321 [==============================] - 35s 2ms/step\n",
            "Time Step: 18\n",
            "16321/16321 [==============================] - 36s 2ms/step\n",
            "Time Step: 19\n",
            "16321/16321 [==============================] - 34s 2ms/step\n",
            "Time Step: 20\n",
            "16321/16321 [==============================] - 34s 2ms/step\n",
            "Time Step: 21\n",
            "16321/16321 [==============================] - 36s 2ms/step\n",
            "Time Step: 22\n",
            "16321/16321 [==============================] - 35s 2ms/step\n",
            "Time Step: 23\n",
            "16321/16321 [==============================] - 34s 2ms/step\n",
            "Time Step: 24\n",
            "16321/16321 [==============================] - 34s 2ms/step\n",
            "Time Step: 25\n",
            "16321/16321 [==============================] - 35s 2ms/step\n",
            "Time Step: 26\n",
            "16321/16321 [==============================] - 35s 2ms/step\n",
            "Time Step: 27\n",
            "16321/16321 [==============================] - 34s 2ms/step\n",
            "Time Step: 28\n",
            "16321/16321 [==============================] - 34s 2ms/step\n",
            "Time Step: 29\n",
            "16321/16321 [==============================] - 35s 2ms/step\n"
          ]
        }
      ],
      "source": [
        "All_RMSE = []\n",
        "forecast_horizon = []\n",
        "horizon = 30\n",
        "\n",
        "for kt in range(horizon):\n",
        "  print(\"Time Step:\", kt)\n",
        "  forecast_horizon.append(kt)\n",
        "  lag_df = test_df.shift(-kt)\n",
        "  lag_df = lag_df.dropna()\n",
        "\n",
        "  X_lag = lag_df.drop([\"Year\",\"ghi\"],axis=1)\n",
        "  Y_lag = pd.DataFrame(lag_df.loc[:,\"ghi\"])\n",
        "\n",
        "  X_lag_scaler = scaler.transform(X_lag.values)\n",
        "\n",
        "  lagX = np.reshape(X_lag_scaler, (X_lag_scaler.shape[0], 1, X_lag_scaler.shape[1]))\n",
        "\n",
        "  yhat_lag = model.predict(lagX)\n",
        "\n",
        "  # calculate RMSE\n",
        "  rmse = np.sqrt(mean_squared_error(Y_test[kt:], yhat_lag))\n",
        "  All_RMSE.append(rmse)\n",
        "\n"
      ]
    },
    {
      "cell_type": "code",
      "execution_count": 19,
      "metadata": {
        "colab": {
          "base_uri": "https://localhost:8080/"
        },
        "id": "zYmLQjCye4Pg",
        "outputId": "00a17ca8-d2b2-4300-ad9c-a16bf00138c8"
      },
      "outputs": [
        {
          "output_type": "execute_result",
          "data": {
            "text/plain": [
              "[73.5932444860498,\n",
              " 73.59331494610645,\n",
              " 73.59338540053479,\n",
              " 73.59345583890064,\n",
              " 73.59352627831004,\n",
              " 73.59359672299304,\n",
              " 73.5936671687883,\n",
              " 73.59373761780923,\n",
              " 73.59380806326924,\n",
              " 73.59387851269614,\n",
              " 73.59394896740478,\n",
              " 73.59401941808187,\n",
              " 73.59408986176031,\n",
              " 73.59416031509215,\n",
              " 73.5942307746388,\n",
              " 73.59430121894803,\n",
              " 73.59437166590882,\n",
              " 73.59444211266587,\n",
              " 73.5945125457415,\n",
              " 73.59458299558253,\n",
              " 73.59465345417061,\n",
              " 73.59472390305879,\n",
              " 73.59479436345994,\n",
              " 73.59486480823936,\n",
              " 73.59493524431542,\n",
              " 73.5950056945616,\n",
              " 73.59507615010146,\n",
              " 73.59514660758173,\n",
              " 73.5952170681216,\n",
              " 73.59528754701084]"
            ]
          },
          "metadata": {},
          "execution_count": 19
        }
      ],
      "source": [
        "All_RMSE"
      ]
    },
    {
      "cell_type": "code",
      "execution_count": 20,
      "metadata": {
        "colab": {
          "base_uri": "https://localhost:8080/",
          "height": 564
        },
        "id": "BHOCu1glIhqQ",
        "outputId": "1a86a7fe-af1d-4454-f9e1-f54817c26734"
      },
      "outputs": [
        {
          "output_type": "display_data",
          "data": {
            "text/plain": [
              "<Figure size 1200x600 with 1 Axes>"
            ],
            "image/png": "[encoded data removed]"
          },
          "metadata": {}
        }
      ],
      "source": [
        "import pandas as pd\n",
        "import matplotlib.pyplot as plt\n",
        "\n",
        "# Plot the time series data and forecast\n",
        "plt.figure(figsize=(12, 6))\n",
        "plt.plot(forecast_horizon, All_RMSE, label='RMSE', color='blue', marker='X')\n",
        "\n",
        "# Add labels and title\n",
        "plt.xlabel('Forecast Horizon (minute): Epoch 30')\n",
        "plt.ylabel('RMSE (W/m^2)')\n",
        "plt.title('Forecast Horizon vs Accuracy')\n",
        "\n",
        "# Add a legend\n",
        "plt.legend()\n",
        "\n",
        "# Display the plot\n",
        "plt.show()"
      ]
    },
    {
      "cell_type": "code",
      "execution_count": 20,
      "metadata": {
        "id": "OnX8xri3e1Rd"
      },
      "outputs": [],
      "source": []
    }
  ],
  "metadata": {
    "accelerator": "GPU",
    "colab": {
      "provenance": [],
      "gpuType": "T4"
    },
    "kernelspec": {
      "display_name": "Python 3",
      "name": "python3"
    },
    "language_info": {
      "name": "python"
    }
  },
  "nbformat": 4,
  "nbformat_minor": 0
}