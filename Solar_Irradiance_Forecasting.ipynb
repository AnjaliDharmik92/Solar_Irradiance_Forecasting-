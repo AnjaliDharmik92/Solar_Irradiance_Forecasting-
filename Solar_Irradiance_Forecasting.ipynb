{
  "cells": [
    {
      "cell_type": "markdown",
      "metadata": {
        "id": "7-BUTgU3lTD9"
      },
      "source": [
        "# Setup"
      ]
    },
    {
      "cell_type": "code",
      "execution_count": 1,
      "metadata": {
        "id": "AIAuAhVdklXV"
      },
      "outputs": [],
      "source": [
        "# import all required packages\n",
        "import os\n",
        "import datetime\n",
        "\n",
        "import IPython\n",
        "import IPython.display\n",
        "import matplotlib as mpl\n",
        "import matplotlib.pyplot as plt\n",
        "import numpy as np\n",
        "import pandas as pd\n",
        "import seaborn as sns\n",
        "import tensorflow as tf\n",
        "import statsmodels.api as sm\n",
        "\n",
        "mpl.rcParams['figure.figsize'] = (8, 6)\n",
        "mpl.rcParams['axes.grid'] = False\n",
        "\n",
        "import warnings\n",
        "warnings.filterwarnings('ignore')"
      ]
    },
    {
      "cell_type": "code",
      "execution_count": 4,
      "metadata": {
        "colab": {
          "base_uri": "https://localhost:8080/",
          "height": 429
        },
        "id": "H0RtvJsNlWBr",
        "outputId": "4b75ef0e-4fd5-4ccc-ffeb-6ee8b989abea"
      },
      "outputs": [
        {
          "output_type": "execute_result",
          "data": {
            "text/plain": [
              "             timeStamp  ghi    Year  Month  Day  Hour  Minute  dwsw  \\\n",
              "0  2014-01-02 08:00:00  0.0  2014.0    1.0  2.0   8.0     0.0   0.0   \n",
              "1  2014-01-02 08:01:00  0.0  2014.0    1.0  2.0   8.0     1.0   0.0   \n",
              "2  2014-01-02 08:02:00  0.0  2014.0    1.0  2.0   8.0     2.0   0.0   \n",
              "3  2014-01-02 08:03:00  0.0  2014.0    1.0  2.0   8.0     3.0   0.0   \n",
              "4  2014-01-02 08:04:00  0.0  2014.0    1.0  2.0   8.0     4.0   0.0   \n",
              "\n",
              "   cloud_cover  precipitation  ...  ENT(G)   AVG(B)   STD(B)  ENT(B)  AVG(RB)  \\\n",
              "0          2.0            0.0  ...  5.3735  155.943  24.4446  5.1713   1.0168   \n",
              "1          2.0            0.0  ...  5.3735  155.943  24.4446  5.1713   1.0168   \n",
              "2          2.0            0.0  ...  5.3735  155.943  24.4446  5.1713   1.0168   \n",
              "3          2.0            0.0  ...  5.3735  155.943  24.4446  5.1713   1.0168   \n",
              "4          2.0            0.0  ...  5.3735  155.943  24.4446  5.1713   1.0168   \n",
              "\n",
              "   STD(RB)  ENT(RB)  AVG(NRB)  STD(NRB)  ENT(NRB)  \n",
              "0   0.0989   3.7791    0.0062    0.0439     2.882  \n",
              "1   0.0989   3.7791    0.0062    0.0439     2.882  \n",
              "2   0.0989   3.7791    0.0062    0.0439     2.882  \n",
              "3   0.0989   3.7791    0.0062    0.0439     2.882  \n",
              "4   0.0989   3.7791    0.0062    0.0439     2.882  \n",
              "\n",
              "[5 rows x 34 columns]"
            ],
            "text/html": [
              "\n",
              "  <div id=\"df-0916bf43-8167-4e1e-9a37-78c27c9dbce0\" class=\"colab-df-container\">\n",
              "    <div>\n",
              "<style scoped>\n",
              "    .dataframe tbody tr th:only-of-type {\n",
              "        vertical-align: middle;\n",
              "    }\n",
              "\n",
              "    .dataframe tbody tr th {\n",
              "        vertical-align: top;\n",
              "    }\n",
              "\n",
              "    .dataframe thead th {\n",
              "        text-align: right;\n",
              "    }\n",
              "</style>\n",
              "<table border=\"1\" class=\"dataframe\">\n",
              "  <thead>\n",
              "    <tr style=\"text-align: right;\">\n",
              "      <th></th>\n",
              "      <th>timeStamp</th>\n",
              "      <th>ghi</th>\n",
              "      <th>Year</th>\n",
              "      <th>Month</th>\n",
              "      <th>Day</th>\n",
              "      <th>Hour</th>\n",
              "      <th>Minute</th>\n",
              "      <th>dwsw</th>\n",
              "      <th>cloud_cover</th>\n",
              "      <th>precipitation</th>\n",
              "      <th>...</th>\n",
              "      <th>ENT(G)</th>\n",
              "      <th>AVG(B)</th>\n",
              "      <th>STD(B)</th>\n",
              "      <th>ENT(B)</th>\n",
              "      <th>AVG(RB)</th>\n",
              "      <th>STD(RB)</th>\n",
              "      <th>ENT(RB)</th>\n",
              "      <th>AVG(NRB)</th>\n",
              "      <th>STD(NRB)</th>\n",
              "      <th>ENT(NRB)</th>\n",
              "    </tr>\n",
              "  </thead>\n",
              "  <tbody>\n",
              "    <tr>\n",
              "      <th>0</th>\n",
              "      <td>2014-01-02 08:00:00</td>\n",
              "      <td>0.0</td>\n",
              "      <td>2014.0</td>\n",
              "      <td>1.0</td>\n",
              "      <td>2.0</td>\n",
              "      <td>8.0</td>\n",
              "      <td>0.0</td>\n",
              "      <td>0.0</td>\n",
              "      <td>2.0</td>\n",
              "      <td>0.0</td>\n",
              "      <td>...</td>\n",
              "      <td>5.3735</td>\n",
              "      <td>155.943</td>\n",
              "      <td>24.4446</td>\n",
              "      <td>5.1713</td>\n",
              "      <td>1.0168</td>\n",
              "      <td>0.0989</td>\n",
              "      <td>3.7791</td>\n",
              "      <td>0.0062</td>\n",
              "      <td>0.0439</td>\n",
              "      <td>2.882</td>\n",
              "    </tr>\n",
              "    <tr>\n",
              "      <th>1</th>\n",
              "      <td>2014-01-02 08:01:00</td>\n",
              "      <td>0.0</td>\n",
              "      <td>2014.0</td>\n",
              "      <td>1.0</td>\n",
              "      <td>2.0</td>\n",
              "      <td>8.0</td>\n",
              "      <td>1.0</td>\n",
              "      <td>0.0</td>\n",
              "      <td>2.0</td>\n",
              "      <td>0.0</td>\n",
              "      <td>...</td>\n",
              "      <td>5.3735</td>\n",
              "      <td>155.943</td>\n",
              "      <td>24.4446</td>\n",
              "      <td>5.1713</td>\n",
              "      <td>1.0168</td>\n",
              "      <td>0.0989</td>\n",
              "      <td>3.7791</td>\n",
              "      <td>0.0062</td>\n",
              "      <td>0.0439</td>\n",
              "      <td>2.882</td>\n",
              "    </tr>\n",
              "    <tr>\n",
              "      <th>2</th>\n",
              "      <td>2014-01-02 08:02:00</td>\n",
              "      <td>0.0</td>\n",
              "      <td>2014.0</td>\n",
              "      <td>1.0</td>\n",
              "      <td>2.0</td>\n",
              "      <td>8.0</td>\n",
              "      <td>2.0</td>\n",
              "      <td>0.0</td>\n",
              "      <td>2.0</td>\n",
              "      <td>0.0</td>\n",
              "      <td>...</td>\n",
              "      <td>5.3735</td>\n",
              "      <td>155.943</td>\n",
              "      <td>24.4446</td>\n",
              "      <td>5.1713</td>\n",
              "      <td>1.0168</td>\n",
              "      <td>0.0989</td>\n",
              "      <td>3.7791</td>\n",
              "      <td>0.0062</td>\n",
              "      <td>0.0439</td>\n",
              "      <td>2.882</td>\n",
              "    </tr>\n",
              "    <tr>\n",
              "      <th>3</th>\n",
              "      <td>2014-01-02 08:03:00</td>\n",
              "      <td>0.0</td>\n",
              "      <td>2014.0</td>\n",
              "      <td>1.0</td>\n",
              "      <td>2.0</td>\n",
              "      <td>8.0</td>\n",
              "      <td>3.0</td>\n",
              "      <td>0.0</td>\n",
              "      <td>2.0</td>\n",
              "      <td>0.0</td>\n",
              "      <td>...</td>\n",
              "      <td>5.3735</td>\n",
              "      <td>155.943</td>\n",
              "      <td>24.4446</td>\n",
              "      <td>5.1713</td>\n",
              "      <td>1.0168</td>\n",
              "      <td>0.0989</td>\n",
              "      <td>3.7791</td>\n",
              "      <td>0.0062</td>\n",
              "      <td>0.0439</td>\n",
              "      <td>2.882</td>\n",
              "    </tr>\n",
              "    <tr>\n",
              "      <th>4</th>\n",
              "      <td>2014-01-02 08:04:00</td>\n",
              "      <td>0.0</td>\n",
              "      <td>2014.0</td>\n",
              "      <td>1.0</td>\n",
              "      <td>2.0</td>\n",
              "      <td>8.0</td>\n",
              "      <td>4.0</td>\n",
              "      <td>0.0</td>\n",
              "      <td>2.0</td>\n",
              "      <td>0.0</td>\n",
              "      <td>...</td>\n",
              "      <td>5.3735</td>\n",
              "      <td>155.943</td>\n",
              "      <td>24.4446</td>\n",
              "      <td>5.1713</td>\n",
              "      <td>1.0168</td>\n",
              "      <td>0.0989</td>\n",
              "      <td>3.7791</td>\n",
              "      <td>0.0062</td>\n",
              "      <td>0.0439</td>\n",
              "      <td>2.882</td>\n",
              "    </tr>\n",
              "  </tbody>\n",
              "</table>\n",
              "<p>5 rows × 34 columns</p>\n",
              "</div>\n",
              "    <div class=\"colab-df-buttons\">\n",
              "\n",
              "  <div class=\"colab-df-container\">\n",
              "    <button class=\"colab-df-convert\" onclick=\"convertToInteractive('df-0916bf43-8167-4e1e-9a37-78c27c9dbce0')\"\n",
              "            title=\"Convert this dataframe to an interactive table.\"\n",
              "            style=\"display:none;\">\n",
              "\n",
              "  <svg xmlns=\"http://www.w3.org/2000/svg\" height=\"24px\" viewBox=\"0 -960 960 960\">\n",
              "    <path d=\"M120-120v-720h720v720H120Zm60-500h600v-160H180v160Zm220 220h160v-160H400v160Zm0 220h160v-160H400v160ZM180-400h160v-160H180v160Zm440 0h160v-160H620v160ZM180-180h160v-160H180v160Zm440 0h160v-160H620v160Z\"/>\n",
              "  </svg>\n",
              "    </button>\n",
              "\n",
              "  <style>\n",
              "    .colab-df-container {\n",
              "      display:flex;\n",
              "      gap: 12px;\n",
              "    }\n",
              "\n",
              "    .colab-df-convert {\n",
              "      background-color: #E8F0FE;\n",
              "      border: none;\n",
              "      border-radius: 50%;\n",
              "      cursor: pointer;\n",
              "      display: none;\n",
              "      fill: #1967D2;\n",
              "      height: 32px;\n",
              "      padding: 0 0 0 0;\n",
              "      width: 32px;\n",
              "    }\n",
              "\n",
              "    .colab-df-convert:hover {\n",
              "      background-color: #E2EBFA;\n",
              "      box-shadow: 0px 1px 2px rgba(60, 64, 67, 0.3), 0px 1px 3px 1px rgba(60, 64, 67, 0.15);\n",
              "      fill: #174EA6;\n",
              "    }\n",
              "\n",
              "    .colab-df-buttons div {\n",
              "      margin-bottom: 4px;\n",
              "    }\n",
              "\n",
              "    [theme=dark] .colab-df-convert {\n",
              "      background-color: #3B4455;\n",
              "      fill: #D2E3FC;\n",
              "    }\n",
              "\n",
              "    [theme=dark] .colab-df-convert:hover {\n",
              "      background-color: #434B5C;\n",
              "      box-shadow: 0px 1px 3px 1px rgba(0, 0, 0, 0.15);\n",
              "      filter: drop-shadow(0px 1px 2px rgba(0, 0, 0, 0.3));\n",
              "      fill: #FFFFFF;\n",
              "    }\n",
              "  </style>\n",
              "\n",
              "    <script>\n",
              "      const buttonEl =\n",
              "        document.querySelector('#df-0916bf43-8167-4e1e-9a37-78c27c9dbce0 button.colab-df-convert');\n",
              "      buttonEl.style.display =\n",
              "        google.colab.kernel.accessAllowed ? 'block' : 'none';\n",
              "\n",
              "      async function convertToInteractive(key) {\n",
              "        const element = document.querySelector('#df-0916bf43-8167-4e1e-9a37-78c27c9dbce0');\n",
              "        const dataTable =\n",
              "          await google.colab.kernel.invokeFunction('convertToInteractive',\n",
              "                                                    [key], {});\n",
              "        if (!dataTable) return;\n",
              "\n",
              "        const docLinkHtml = 'Like what you see? Visit the ' +\n",
              "          '<a target=\"_blank\" href=https://colab.research.google.com/notebooks/data_table.ipynb>data table notebook</a>'\n",
              "          + ' to learn more about interactive tables.';\n",
              "        element.innerHTML = '';\n",
              "        dataTable['output_type'] = 'display_data';\n",
              "        await google.colab.output.renderOutput(dataTable, element);\n",
              "        const docLink = document.createElement('div');\n",
              "        docLink.innerHTML = docLinkHtml;\n",
              "        element.appendChild(docLink);\n",
              "      }\n",
              "    </script>\n",
              "  </div>\n",
              "\n",
              "\n",
              "<div id=\"df-0fad534a-691a-4eb1-8eb3-0f90651a7396\">\n",
              "  <button class=\"colab-df-quickchart\" onclick=\"quickchart('df-0fad534a-691a-4eb1-8eb3-0f90651a7396')\"\n",
              "            title=\"Suggest charts.\"\n",
              "            style=\"display:none;\">\n",
              "\n",
              "<svg xmlns=\"http://www.w3.org/2000/svg\" height=\"24px\"viewBox=\"0 0 24 24\"\n",
              "     width=\"24px\">\n",
              "    <g>\n",
              "        <path d=\"M19 3H5c-1.1 0-2 .9-2 2v14c0 1.1.9 2 2 2h14c1.1 0 2-.9 2-2V5c0-1.1-.9-2-2-2zM9 17H7v-7h2v7zm4 0h-2V7h2v10zm4 0h-2v-4h2v4z\"/>\n",
              "    </g>\n",
              "</svg>\n",
              "  </button>\n",
              "\n",
              "<style>\n",
              "  .colab-df-quickchart {\n",
              "      --bg-color: #E8F0FE;\n",
              "      --fill-color: #1967D2;\n",
              "      --hover-bg-color: #E2EBFA;\n",
              "      --hover-fill-color: #174EA6;\n",
              "      --disabled-fill-color: #AAA;\n",
              "      --disabled-bg-color: #DDD;\n",
              "  }\n",
              "\n",
              "  [theme=dark] .colab-df-quickchart {\n",
              "      --bg-color: #3B4455;\n",
              "      --fill-color: #D2E3FC;\n",
              "      --hover-bg-color: #434B5C;\n",
              "      --hover-fill-color: #FFFFFF;\n",
              "      --disabled-bg-color: #3B4455;\n",
              "      --disabled-fill-color: #666;\n",
              "  }\n",
              "\n",
              "  .colab-df-quickchart {\n",
              "    background-color: var(--bg-color);\n",
              "    border: none;\n",
              "    border-radius: 50%;\n",
              "    cursor: pointer;\n",
              "    display: none;\n",
              "    fill: var(--fill-color);\n",
              "    height: 32px;\n",
              "    padding: 0;\n",
              "    width: 32px;\n",
              "  }\n",
              "\n",
              "  .colab-df-quickchart:hover {\n",
              "    background-color: var(--hover-bg-color);\n",
              "    box-shadow: 0 1px 2px rgba(60, 64, 67, 0.3), 0 1px 3px 1px rgba(60, 64, 67, 0.15);\n",
              "    fill: var(--button-hover-fill-color);\n",
              "  }\n",
              "\n",
              "  .colab-df-quickchart-complete:disabled,\n",
              "  .colab-df-quickchart-complete:disabled:hover {\n",
              "    background-color: var(--disabled-bg-color);\n",
              "    fill: var(--disabled-fill-color);\n",
              "    box-shadow: none;\n",
              "  }\n",
              "\n",
              "  .colab-df-spinner {\n",
              "    border: 2px solid var(--fill-color);\n",
              "    border-color: transparent;\n",
              "    border-bottom-color: var(--fill-color);\n",
              "    animation:\n",
              "      spin 1s steps(1) infinite;\n",
              "  }\n",
              "\n",
              "  @keyframes spin {\n",
              "    0% {\n",
              "      border-color: transparent;\n",
              "      border-bottom-color: var(--fill-color);\n",
              "      border-left-color: var(--fill-color);\n",
              "    }\n",
              "    20% {\n",
              "      border-color: transparent;\n",
              "      border-left-color: var(--fill-color);\n",
              "      border-top-color: var(--fill-color);\n",
              "    }\n",
              "    30% {\n",
              "      border-color: transparent;\n",
              "      border-left-color: var(--fill-color);\n",
              "      border-top-color: var(--fill-color);\n",
              "      border-right-color: var(--fill-color);\n",
              "    }\n",
              "    40% {\n",
              "      border-color: transparent;\n",
              "      border-right-color: var(--fill-color);\n",
              "      border-top-color: var(--fill-color);\n",
              "    }\n",
              "    60% {\n",
              "      border-color: transparent;\n",
              "      border-right-color: var(--fill-color);\n",
              "    }\n",
              "    80% {\n",
              "      border-color: transparent;\n",
              "      border-right-color: var(--fill-color);\n",
              "      border-bottom-color: var(--fill-color);\n",
              "    }\n",
              "    90% {\n",
              "      border-color: transparent;\n",
              "      border-bottom-color: var(--fill-color);\n",
              "    }\n",
              "  }\n",
              "</style>\n",
              "\n",
              "  <script>\n",
              "    async function quickchart(key) {\n",
              "      const quickchartButtonEl =\n",
              "        document.querySelector('#' + key + ' button');\n",
              "      quickchartButtonEl.disabled = true;  // To prevent multiple clicks.\n",
              "      quickchartButtonEl.classList.add('colab-df-spinner');\n",
              "      try {\n",
              "        const charts = await google.colab.kernel.invokeFunction(\n",
              "            'suggestCharts', [key], {});\n",
              "      } catch (error) {\n",
              "        console.error('Error during call to suggestCharts:', error);\n",
              "      }\n",
              "      quickchartButtonEl.classList.remove('colab-df-spinner');\n",
              "      quickchartButtonEl.classList.add('colab-df-quickchart-complete');\n",
              "    }\n",
              "    (() => {\n",
              "      let quickchartButtonEl =\n",
              "        document.querySelector('#df-0fad534a-691a-4eb1-8eb3-0f90651a7396 button');\n",
              "      quickchartButtonEl.style.display =\n",
              "        google.colab.kernel.accessAllowed ? 'block' : 'none';\n",
              "    })();\n",
              "  </script>\n",
              "</div>\n",
              "    </div>\n",
              "  </div>\n"
            ]
          },
          "metadata": {},
          "execution_count": 4
        }
      ],
      "source": [
        "processed_data_path = '/content/drive/MyDrive/Folsom_sky_images/processed_data.csv'\n",
        "irradiance_data = pd.read_csv(processed_data_path)\n",
        "irradiance_data.head()"
      ]
    },
    {
      "cell_type": "code",
      "execution_count": 5,
      "metadata": {
        "colab": {
          "base_uri": "https://localhost:8080/"
        },
        "id": "rPR7tTj5lulU",
        "outputId": "67b0884b-6941-4157-ede7-d6873a6a49da"
      },
      "outputs": [
        {
          "output_type": "execute_result",
          "data": {
            "text/plain": [
              "(1551888, 34)"
            ]
          },
          "metadata": {},
          "execution_count": 5
        }
      ],
      "source": [
        "irradiance_data.shape"
      ]
    },
    {
      "cell_type": "code",
      "execution_count": 6,
      "metadata": {
        "colab": {
          "base_uri": "https://localhost:8080/"
        },
        "id": "8K3qC5RK7g8S",
        "outputId": "32b824bf-ce23-403b-d76c-7fa508c0467d"
      },
      "outputs": [
        {
          "output_type": "execute_result",
          "data": {
            "text/plain": [
              "Index(['timeStamp', 'ghi', 'Year', 'Month', 'Day', 'Hour', 'Minute', 'dwsw',\n",
              "       'cloud_cover', 'precipitation', 'pressure', 'wind-u', 'wind-v',\n",
              "       'temperature', 'rel_humidity', 'cloud_cover_ratio',\n",
              "       'satellite_image_AVG', 'satellite_image_STD', 'satellite_image_ENT',\n",
              "       'AVG(R)', 'STD(R)', 'ENT(R)', 'AVG(G)', 'STD(G)', 'ENT(G)', 'AVG(B)',\n",
              "       'STD(B)', 'ENT(B)', 'AVG(RB)', 'STD(RB)', 'ENT(RB)', 'AVG(NRB)',\n",
              "       'STD(NRB)', 'ENT(NRB)'],\n",
              "      dtype='object')"
            ]
          },
          "metadata": {},
          "execution_count": 6
        }
      ],
      "source": [
        "irradiance_data.columns"
      ]
    },
    {
      "cell_type": "markdown",
      "metadata": {
        "id": "iPjfAA1elyMe"
      },
      "source": [
        "# Split Data into Training and Testing Sets"
      ]
    },
    {
      "cell_type": "code",
      "execution_count": 7,
      "metadata": {
        "id": "bUF1tbESlvnT"
      },
      "outputs": [],
      "source": [
        "column_indices = {name: i for i, name in enumerate(irradiance_data.columns)}\n",
        "\n",
        "irradiance_data = irradiance_data.drop([\"timeStamp\"],axis=1)\n",
        "\n",
        "train_df = irradiance_data[irradiance_data.Year <= 2015]\n",
        "test_df = irradiance_data[irradiance_data.Year == 2016]\n",
        "\n",
        "X_train = train_df.drop([\"Year\",\"ghi\"],axis=1)\n",
        "Y_train = pd.DataFrame(train_df.loc[:,\"ghi\"])\n",
        "\n",
        "X_test = test_df.drop([\"Year\",\"ghi\"],axis=1)\n",
        "Y_test = pd.DataFrame(test_df.loc[:,\"ghi\"])"
      ]
    },
    {
      "cell_type": "code",
      "execution_count": 8,
      "metadata": {
        "colab": {
          "base_uri": "https://localhost:8080/"
        },
        "id": "Ek0287u_5qK7",
        "outputId": "b1453bb0-14a3-4b34-a230-88b04d042d54"
      },
      "outputs": [
        {
          "output_type": "execute_result",
          "data": {
            "text/plain": [
              "Index(['Month', 'Day', 'Hour', 'Minute', 'dwsw', 'cloud_cover',\n",
              "       'precipitation', 'pressure', 'wind-u', 'wind-v', 'temperature',\n",
              "       'rel_humidity', 'cloud_cover_ratio', 'satellite_image_AVG',\n",
              "       'satellite_image_STD', 'satellite_image_ENT', 'AVG(R)', 'STD(R)',\n",
              "       'ENT(R)', 'AVG(G)', 'STD(G)', 'ENT(G)', 'AVG(B)', 'STD(B)', 'ENT(B)',\n",
              "       'AVG(RB)', 'STD(RB)', 'ENT(RB)', 'AVG(NRB)', 'STD(NRB)', 'ENT(NRB)'],\n",
              "      dtype='object')"
            ]
          },
          "metadata": {},
          "execution_count": 8
        }
      ],
      "source": [
        "X_train.columns"
      ]
    },
    {
      "cell_type": "code",
      "execution_count": 9,
      "metadata": {
        "colab": {
          "base_uri": "https://localhost:8080/"
        },
        "id": "FOAO_kcGmBQE",
        "outputId": "8c25ab5e-a2d1-4b09-f526-019c107c5211"
      },
      "outputs": [
        {
          "output_type": "execute_result",
          "data": {
            "text/plain": [
              "(1029600, 31)"
            ]
          },
          "metadata": {},
          "execution_count": 9
        }
      ],
      "source": [
        "X_train.shape"
      ]
    },
    {
      "cell_type": "markdown",
      "metadata": {
        "id": "HTgosg0EmF9Y"
      },
      "source": [
        "# Normalize the data"
      ]
    },
    {
      "cell_type": "code",
      "execution_count": 10,
      "metadata": {
        "id": "wCB-5CBMmJIc"
      },
      "outputs": [],
      "source": [
        "from sklearn.preprocessing import MinMaxScaler\n",
        "\n",
        "scaler = MinMaxScaler(feature_range=(0,1))\n",
        "X_train_scaler = scaler.fit_transform(X_train.values)\n",
        "X_test_scaler = scaler.transform(X_test.values)"
      ]
    },
    {
      "cell_type": "markdown",
      "metadata": {
        "id": "jnGfb7XzmM0k"
      },
      "source": [
        "# Data Lags\n",
        "forecast irradiance (GHI) with 30 minute horizon and one minute granularity (IE, predicting t+1, t+2, t+3…, t+30)."
      ]
    },
    {
      "cell_type": "markdown",
      "metadata": {
        "id": "xG5hB-qkrper"
      },
      "source": [
        "# Model Evaluation"
      ]
    },
    {
      "cell_type": "code",
      "execution_count": 11,
      "metadata": {
        "id": "antKOHW3rssq"
      },
      "outputs": [],
      "source": [
        "trainX = np.reshape(X_train_scaler, (X_train_scaler.shape[0], 1, X_train_scaler.shape[1]))\n",
        "testX = np.reshape(X_test_scaler, (X_test_scaler.shape[0], 1, X_test_scaler.shape[1]))"
      ]
    },
    {
      "cell_type": "code",
      "execution_count": 12,
      "metadata": {
        "colab": {
          "base_uri": "https://localhost:8080/"
        },
        "id": "m-epZMPV57aJ",
        "outputId": "06bc4f7d-d9bb-4d7f-e170-05dca0def513"
      },
      "outputs": [
        {
          "output_type": "stream",
          "name": "stdout",
          "text": [
            "Collecting GPyOpt\n",
            "  Downloading GPyOpt-1.2.6.tar.gz (56 kB)\n",
            "\u001b[?25l     \u001b[90m━━━━━━━━━━━━━━━━━━━━━━━━━━━━━━━━━━━━━━━━\u001b[0m \u001b[32m0.0/56.8 kB\u001b[0m \u001b[31m?\u001b[0m eta \u001b[36m-:--:--\u001b[0m\r\u001b[2K     \u001b[90m━━━━━━━━━━━━━━━━━━━━━━━━━━━━━━━━━━━━━━━━\u001b[0m \u001b[32m56.8/56.8 kB\u001b[0m \u001b[31m2.0 MB/s\u001b[0m eta \u001b[36m0:00:00\u001b[0m\n",
            "\u001b[?25h  Preparing metadata (setup.py) ... \u001b[?25l\u001b[?25hdone\n",
            "Requirement already satisfied: numpy>=1.7 in /usr/local/lib/python3.10/dist-packages (from GPyOpt) (1.23.5)\n",
            "Requirement already satisfied: scipy>=0.16 in /usr/local/lib/python3.10/dist-packages (from GPyOpt) (1.11.3)\n",
            "Collecting GPy>=1.8 (from GPyOpt)\n",
            "  Downloading GPy-1.10.0.tar.gz (959 kB)\n",
            "\u001b[2K     \u001b[90m━━━━━━━━━━━━━━━━━━━━━━━━━━━━━━━━━━━━━━━━\u001b[0m \u001b[32m959.4/959.4 kB\u001b[0m \u001b[31m9.1 MB/s\u001b[0m eta \u001b[36m0:00:00\u001b[0m\n",
            "\u001b[?25h  Preparing metadata (setup.py) ... \u001b[?25l\u001b[?25hdone\n",
            "Requirement already satisfied: six in /usr/local/lib/python3.10/dist-packages (from GPy>=1.8->GPyOpt) (1.16.0)\n",
            "Collecting paramz>=0.9.0 (from GPy>=1.8->GPyOpt)\n",
            "  Downloading paramz-0.9.5.tar.gz (71 kB)\n",
            "\u001b[2K     \u001b[90m━━━━━━━━━━━━━━━━━━━━━━━━━━━━━━━━━━━━━━━━\u001b[0m \u001b[32m71.3/71.3 kB\u001b[0m \u001b[31m9.5 MB/s\u001b[0m eta \u001b[36m0:00:00\u001b[0m\n",
            "\u001b[?25h  Preparing metadata (setup.py) ... \u001b[?25l\u001b[?25hdone\n",
            "Requirement already satisfied: cython>=0.29 in /usr/local/lib/python3.10/dist-packages (from GPy>=1.8->GPyOpt) (3.0.4)\n",
            "Requirement already satisfied: decorator>=4.0.10 in /usr/local/lib/python3.10/dist-packages (from paramz>=0.9.0->GPy>=1.8->GPyOpt) (4.4.2)\n",
            "Building wheels for collected packages: GPyOpt, GPy, paramz\n",
            "  Building wheel for GPyOpt (setup.py) ... \u001b[?25l\u001b[?25hdone\n",
            "  Created wheel for GPyOpt: filename=GPyOpt-1.2.6-py3-none-any.whl size=83588 sha256=bab8f0a45972f74d4514fd7791e88383b39652dc7224c0e56cde1adde1fe5a76\n",
            "  Stored in directory: /root/.cache/pip/wheels/72/17/52/9d818b4c60f733bf49d5cf82bc2758ebbdc57a0471137c37be\n",
            "  Building wheel for GPy (setup.py) ... \u001b[?25l\u001b[?25hdone\n",
            "  Created wheel for GPy: filename=GPy-1.10.0-cp310-cp310-linux_x86_64.whl size=3420178 sha256=e2f41449f6b10cdb87bce071a3e3b1c2e9119cc5e277999e5bb44262295b6164\n",
            "  Stored in directory: /root/.cache/pip/wheels/27/bd/9f/82ab4216eae088cba864ca0dc1d75699bd4bf6823790fb2f77\n",
            "  Building wheel for paramz (setup.py) ... \u001b[?25l\u001b[?25hdone\n",
            "  Created wheel for paramz: filename=paramz-0.9.5-py3-none-any.whl size=102544 sha256=3edda5be0bed59009b2b75016248f7e694d30f62857c4c7f1c70997f44358fcb\n",
            "  Stored in directory: /root/.cache/pip/wheels/d2/ef/9c/da9ceef7d0ff5287c24365844fc394852c2b79ac3fcf33bf8b\n",
            "Successfully built GPyOpt GPy paramz\n",
            "Installing collected packages: paramz, GPy, GPyOpt\n",
            "Successfully installed GPy-1.10.0 GPyOpt-1.2.6 paramz-0.9.5\n"
          ]
        }
      ],
      "source": [
        "!pip install GPyOpt"
      ]
    },
    {
      "cell_type": "markdown",
      "source": [
        "# Load Best Performed Model: LSTM model with Early Stopping, Reduce Learning Rate, Dropout and Regularization"
      ],
      "metadata": {
        "id": "EkES-7aZhs8E"
      }
    },
    {
      "cell_type": "code",
      "source": [
        "import numpy as np\n",
        "import tensorflow as tf\n",
        "from tensorflow.keras.models import Sequential\n",
        "from tensorflow.keras.layers import LSTM, Dense,Dropout\n",
        "from tensorflow.keras.callbacks import EarlyStopping\n",
        "from GPyOpt.methods import BayesianOptimization\n",
        "from keras import backend as K\n",
        "\n",
        "# Define rmse metric for keras to use as a loss function\n",
        "def root_mean_squared_error(y_true, y_pred):\n",
        "    return K.sqrt(K.mean(K.square(y_pred - y_true)))"
      ],
      "metadata": {
        "id": "nkeDa70si1Up"
      },
      "execution_count": null,
      "outputs": []
    },
    {
      "cell_type": "code",
      "source": [
        "LSTM_model = tf.keras.models.load_model('/content/LSTM_ES_RLR_DP_Reg_model.h5', custom_objects={'root_mean_squared_error':\n",
        "root_mean_squared_error})"
      ],
      "metadata": {
        "id": "ZhtSZXd1hat7"
      },
      "execution_count": 16,
      "outputs": []
    },
    {
      "cell_type": "code",
      "source": [
        "LSTM_model.summary()"
      ],
      "metadata": {
        "colab": {
          "base_uri": "https://localhost:8080/"
        },
        "id": "8GzQn1KAix80",
        "outputId": "1eaf2c49-c509-481d-9b6b-a2ab70445432"
      },
      "execution_count": 17,
      "outputs": [
        {
          "output_type": "stream",
          "name": "stdout",
          "text": [
            "Model: \"sequential_3\"\n",
            "_________________________________________________________________\n",
            " Layer (type)                Output Shape              Param #   \n",
            "=================================================================\n",
            " lstm_3 (LSTM)               (None, 128)               81920     \n",
            "                                                                 \n",
            " dropout_2 (Dropout)         (None, 128)               0         \n",
            "                                                                 \n",
            " dense_6 (Dense)             (None, 64)                8256      \n",
            "                                                                 \n",
            " dropout_3 (Dropout)         (None, 64)                0         \n",
            "                                                                 \n",
            " dense_7 (Dense)             (None, 1)                 65        \n",
            "                                                                 \n",
            "=================================================================\n",
            "Total params: 90241 (352.50 KB)\n",
            "Trainable params: 90241 (352.50 KB)\n",
            "Non-trainable params: 0 (0.00 Byte)\n",
            "_________________________________________________________________\n"
          ]
        }
      ]
    },
    {
      "cell_type": "code",
      "execution_count": 18,
      "metadata": {
        "id": "cKctYimtsoFd",
        "colab": {
          "base_uri": "https://localhost:8080/"
        },
        "outputId": "54e63455-8978-4d5c-dae5-0562e8d74c58"
      },
      "outputs": [
        {
          "output_type": "stream",
          "name": "stdout",
          "text": [
            "16322/16322 [==============================] - 38s 2ms/step\n"
          ]
        },
        {
          "output_type": "execute_result",
          "data": {
            "text/plain": [
              "array([[-0.9108343],\n",
              "       [-0.9510045],\n",
              "       [-0.9520521],\n",
              "       ...,\n",
              "       [ 1.8599486],\n",
              "       [ 2.134564 ],\n",
              "       [ 2.1431305]], dtype=float32)"
            ]
          },
          "metadata": {},
          "execution_count": 18
        }
      ],
      "source": [
        "yhat = LSTM_model.predict(testX)\n",
        "yhat"
      ]
    },
    {
      "cell_type": "code",
      "execution_count": 19,
      "metadata": {
        "id": "3oREFPtrsqXg",
        "colab": {
          "base_uri": "https://localhost:8080/"
        },
        "outputId": "97822719-a065-4897-a571-732c88a9e18f"
      },
      "outputs": [
        {
          "output_type": "stream",
          "name": "stdout",
          "text": [
            "Model Evaluation scores:\n",
            "Test RMSE: 74.192\n",
            "Test R2: 0.936\n",
            "Test MSE: 5504.393\n",
            "Test MAE: 35.157\n"
          ]
        }
      ],
      "source": [
        "# model evaluation\n",
        "from sklearn.metrics import mean_squared_error,mean_absolute_error, r2_score\n",
        "\n",
        "print(\"Model Evaluation scores:\")\n",
        "\n",
        "# calculate RMSE\n",
        "testrmse = root_mean_squared_error(Y_test, yhat)\n",
        "\n",
        "print('Test RMSE: %.3f' % testrmse)\n",
        "# calculate Rsqured\n",
        "r2=r2_score(Y_test, yhat)\n",
        "print('Test R2: %.3f' % r2)\n",
        "\n",
        "# calculate mse\n",
        "mse = mean_squared_error(Y_test, yhat)\n",
        "print('Test MSE: %.3f' % mse)\n",
        "\n",
        "# mean absolute error\n",
        "mae = mean_absolute_error(Y_test, yhat)\n",
        "print('Test MAE: %.3f' % mae)"
      ]
    },
    {
      "cell_type": "markdown",
      "metadata": {
        "id": "UdGvomWys4t7"
      },
      "source": [
        "# Plot Solar Irradiance"
      ]
    },
    {
      "cell_type": "code",
      "execution_count": 20,
      "metadata": {
        "id": "KpzaKlsrs7_Q",
        "colab": {
          "base_uri": "https://localhost:8080/",
          "height": 480
        },
        "outputId": "6fa34cff-0118-4132-a7a8-93cacd500f1f"
      },
      "outputs": [
        {
          "output_type": "display_data",
          "data": {
            "text/plain": [
              "<Figure size 1200x600 with 1 Axes>"
            ],
            "image/png": "[encoded data removed]"
          },
          "metadata": {}
        }
      ],
      "source": [
        "import pandas as pd\n",
        "import matplotlib.pyplot as plt\n",
        "\n",
        "# Plot the time series data and forecast\n",
        "plt.figure(figsize=(12, 6))\n",
        "plt.plot(test_df.index, Y_test, label='Actual', color='blue')\n",
        "plt.plot(test_df.index, yhat, label='Forecast', color='red')\n",
        "\n",
        "# Add labels and title\n",
        "plt.xlabel('Index Value')\n",
        "plt.ylabel('Solar Irradiance GHI')\n",
        "plt.title('Time Series with Solar Irradiance Forecast')\n",
        "\n",
        "# Add a legend\n",
        "plt.legend()\n",
        "\n",
        "# Display the plot\n",
        "plt.grid(True)\n",
        "plt.show()"
      ]
    },
    {
      "cell_type": "markdown",
      "metadata": {
        "id": "zi21YdIbmjDF"
      },
      "source": [
        "# Autoregressive LSTM RNN model"
      ]
    },
    {
      "cell_type": "code",
      "execution_count": 22,
      "metadata": {
        "id": "eh4IhsNvavIk",
        "colab": {
          "base_uri": "https://localhost:8080/"
        },
        "outputId": "27d77250-21fb-443a-e9b8-ba08a8d910cc"
      },
      "outputs": [
        {
          "output_type": "stream",
          "name": "stdout",
          "text": [
            "Time Step: 0\n",
            "16322/16322 [==============================] - 36s 2ms/step\n",
            "Time Step: 1\n",
            "16322/16322 [==============================] - 36s 2ms/step\n",
            "Time Step: 2\n",
            "16322/16322 [==============================] - 36s 2ms/step\n",
            "Time Step: 3\n",
            "16322/16322 [==============================] - 36s 2ms/step\n",
            "Time Step: 4\n",
            "16322/16322 [==============================] - 37s 2ms/step\n",
            "Time Step: 5\n",
            "16322/16322 [==============================] - 36s 2ms/step\n",
            "Time Step: 6\n",
            "16322/16322 [==============================] - 37s 2ms/step\n",
            "Time Step: 7\n",
            "16322/16322 [==============================] - 37s 2ms/step\n",
            "Time Step: 8\n",
            "16322/16322 [==============================] - 37s 2ms/step\n",
            "Time Step: 9\n",
            "16322/16322 [==============================] - 37s 2ms/step\n",
            "Time Step: 10\n",
            "16322/16322 [==============================] - 38s 2ms/step\n",
            "Time Step: 11\n",
            "16322/16322 [==============================] - 36s 2ms/step\n",
            "Time Step: 12\n",
            "16322/16322 [==============================] - 36s 2ms/step\n",
            "Time Step: 13\n",
            "16322/16322 [==============================] - 36s 2ms/step\n",
            "Time Step: 14\n",
            "16322/16322 [==============================] - 36s 2ms/step\n",
            "Time Step: 15\n",
            "16322/16322 [==============================] - 36s 2ms/step\n",
            "Time Step: 16\n",
            "16321/16321 [==============================] - 36s 2ms/step\n",
            "Time Step: 17\n",
            "16321/16321 [==============================] - 36s 2ms/step\n",
            "Time Step: 18\n",
            "16321/16321 [==============================] - 36s 2ms/step\n",
            "Time Step: 19\n",
            "16321/16321 [==============================] - 36s 2ms/step\n",
            "Time Step: 20\n",
            "16321/16321 [==============================] - 37s 2ms/step\n",
            "Time Step: 21\n",
            "16321/16321 [==============================] - 38s 2ms/step\n",
            "Time Step: 22\n",
            "16321/16321 [==============================] - 38s 2ms/step\n",
            "Time Step: 23\n",
            "16321/16321 [==============================] - 38s 2ms/step\n",
            "Time Step: 24\n",
            "16321/16321 [==============================] - 38s 2ms/step\n",
            "Time Step: 25\n",
            "16321/16321 [==============================] - 37s 2ms/step\n",
            "Time Step: 26\n",
            "16321/16321 [==============================] - 37s 2ms/step\n",
            "Time Step: 27\n",
            "16321/16321 [==============================] - 36s 2ms/step\n",
            "Time Step: 28\n",
            "16321/16321 [==============================] - 36s 2ms/step\n",
            "Time Step: 29\n",
            "16321/16321 [==============================] - 36s 2ms/step\n"
          ]
        }
      ],
      "source": [
        "All_RMSE = []\n",
        "forecast_horizon = []\n",
        "horizon = 30\n",
        "\n",
        "for kt in range(horizon):\n",
        "  print(\"Time Step:\", kt)\n",
        "  forecast_horizon.append(kt)\n",
        "  lag_df = test_df.shift(-kt)\n",
        "  lag_df = lag_df.dropna()\n",
        "\n",
        "  X_lag = lag_df.drop([\"Year\",\"ghi\"],axis=1)\n",
        "  Y_lag = pd.DataFrame(lag_df.loc[:,\"ghi\"])\n",
        "\n",
        "  X_lag_scaler = scaler.transform(X_lag.values)\n",
        "\n",
        "  lagX = np.reshape(X_lag_scaler, (X_lag_scaler.shape[0], 1, X_lag_scaler.shape[1]))\n",
        "\n",
        "  yhat_lag = LSTM_model.predict(lagX)\n",
        "\n",
        "  # calculate RMSE\n",
        "  rmse = np.sqrt(mean_squared_error(Y_test[kt:], yhat_lag))\n",
        "  All_RMSE.append(rmse)\n",
        "\n"
      ]
    },
    {
      "cell_type": "code",
      "execution_count": 23,
      "metadata": {
        "id": "zYmLQjCye4Pg",
        "colab": {
          "base_uri": "https://localhost:8080/"
        },
        "outputId": "07bdb554-c981-44d2-916a-757fe248e7dc"
      },
      "outputs": [
        {
          "output_type": "execute_result",
          "data": {
            "text/plain": [
              "[74.19159730380963,\n",
              " 74.19166833130168,\n",
              " 74.19173934075108,\n",
              " 74.19181035174913,\n",
              " 74.19188137873061,\n",
              " 74.19195240750312,\n",
              " 74.19202341732674,\n",
              " 74.19209441058165,\n",
              " 74.19216544044569,\n",
              " 74.19223646953127,\n",
              " 74.19230747716873,\n",
              " 74.19237849183241,\n",
              " 74.19244951250054,\n",
              " 74.19252053232333,\n",
              " 74.19259153221066,\n",
              " 74.19266254173831,\n",
              " 74.19273354961557,\n",
              " 74.19280457166852,\n",
              " 74.19287560247524,\n",
              " 74.19294661774623,\n",
              " 74.19301763474779,\n",
              " 74.19308865209402,\n",
              " 74.19315965557261,\n",
              " 74.1932306753618,\n",
              " 74.19330170235187,\n",
              " 74.19337272990519,\n",
              " 74.19344376240562,\n",
              " 74.1935147780859,\n",
              " 74.19358578957521,\n",
              " 74.19365680821906]"
            ]
          },
          "metadata": {},
          "execution_count": 23
        }
      ],
      "source": [
        "All_RMSE"
      ]
    },
    {
      "cell_type": "code",
      "execution_count": 24,
      "metadata": {
        "id": "BHOCu1glIhqQ",
        "colab": {
          "base_uri": "https://localhost:8080/",
          "height": 474
        },
        "outputId": "741195eb-249e-496e-d7b3-8784c5b6bc9a"
      },
      "outputs": [
        {
          "output_type": "display_data",
          "data": {
            "text/plain": [
              "<Figure size 1200x600 with 1 Axes>"
            ],
            "image/png": "[encoded data removed]"
          },
          "metadata": {}
        }
      ],
      "source": [
        "import pandas as pd\n",
        "import matplotlib.pyplot as plt\n",
        "\n",
        "# Plot the time series data and forecast\n",
        "plt.figure(figsize=(12, 6))\n",
        "plt.plot(forecast_horizon, All_RMSE, label='RMSE', color='blue', marker='X')\n",
        "\n",
        "# Add labels and title\n",
        "plt.xlabel('Forecast Horizon (minute): Epoch 30')\n",
        "plt.ylabel('RMSE (W/m^2)')\n",
        "plt.title('Forecast Horizon vs Accuracy')\n",
        "\n",
        "# Add a legend\n",
        "plt.legend()\n",
        "\n",
        "# Display the plot\n",
        "plt.show()"
      ]
    },
    {
      "cell_type": "code",
      "execution_count": null,
      "metadata": {
        "id": "OnX8xri3e1Rd"
      },
      "outputs": [],
      "source": []
    }
  ],
  "metadata": {
    "accelerator": "GPU",
    "colab": {
      "provenance": [],
      "gpuType": "T4"
    },
    "kernelspec": {
      "display_name": "Python 3",
      "name": "python3"
    },
    "language_info": {
      "name": "python"
    }
  },
  "nbformat": 4,
  "nbformat_minor": 0
}