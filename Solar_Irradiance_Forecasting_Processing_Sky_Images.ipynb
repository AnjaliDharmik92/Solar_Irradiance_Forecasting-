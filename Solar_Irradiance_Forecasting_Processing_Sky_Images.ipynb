{
 "cells": [
  {
   "cell_type": "markdown",
   "metadata": {
    "id": "e0aLDG-Bn2W_"
   },
   "source": [
    "# Setup"
   ]
  },
  {
   "cell_type": "code",
   "execution_count": null,
   "metadata": {
    "id": "MTjSpjPbn6u5"
   },
   "outputs": [],
   "source": [
    "#!pip install defisheye"
   ]
  },
  {
   "cell_type": "code",
   "execution_count": null,
   "metadata": {
    "id": "NDc3Dhfg6uY1"
   },
   "outputs": [],
   "source": [
    "# import required package\n",
    "\n",
    "#!/usr/bin/env python3.6\n",
    "# -*- Coding: UTF-8 -*-\n",
    "\n",
    "import pandas as pd\n",
    "import numpy as np\n",
    "from PIL import Image\n",
    "import os,datetime\n",
    "from glob import glob\n",
    "import cv2 as cv\n",
    "import tensorflow as tf\n",
    "from google.colab.patches import cv2_imshow\n"
   ]
  },
  {
   "cell_type": "code",
   "execution_count": null,
   "metadata": {
    "id": "SJgQfCtU62Ic"
   },
   "outputs": [],
   "source": [
    "class Defisheye:\n",
    "    \"\"\"\n",
    "    Defisheye\n",
    "\n",
    "    fov: fisheye field of view (aperture) in degrees\n",
    "    pfov: perspective field of view (aperture) in degrees\n",
    "    xcenter: x center of fisheye area\n",
    "    ycenter: y center of fisheye area\n",
    "    radius: radius of fisheye area\n",
    "    angle: image rotation in degrees clockwise\n",
    "    dtype: linear, equalarea, orthographic, stereographic\n",
    "    format: circular, fullframe\n",
    "    \"\"\"\n",
    "\n",
    "    def __init__(self, infile, **kwargs):\n",
    "        vkwargs = {\"fov\": 180,\n",
    "                   \"pfov\": 120,\n",
    "                   \"xcenter\": None,\n",
    "                   \"ycenter\": None,\n",
    "                   \"radius\": None,\n",
    "                   \"angle\": 0,\n",
    "                   \"dtype\": \"equalarea\",\n",
    "                   \"format\": \"fullframe\"\n",
    "                   }\n",
    "        self._start_att(vkwargs, kwargs)\n",
    "\n",
    "        if type(infile) == str:\n",
    "            _image = cv.imread(infile)\n",
    "        elif type(infile) == np.ndarray:\n",
    "            _image = infile\n",
    "        else:\n",
    "            raise Exception(\"Image format not recognized\")\n",
    "\n",
    "        width = _image.shape[1]\n",
    "        height = _image.shape[0]\n",
    "        xcenter = width // 2\n",
    "        ycenter = height // 2\n",
    "\n",
    "        dim = min(width, height)\n",
    "        x0 = xcenter - dim // 2\n",
    "        xf = xcenter + dim // 2\n",
    "        y0 = ycenter - dim // 2\n",
    "        yf = ycenter + dim // 2\n",
    "\n",
    "        self._image = _image[y0:yf, x0:xf, :]\n",
    "\n",
    "        self._width = self._image.shape[1]\n",
    "        self._height = self._image.shape[0]\n",
    "\n",
    "        if self._xcenter is None:\n",
    "            self._xcenter = (self._width - 1) // 2\n",
    "\n",
    "        if self._ycenter is None:\n",
    "            self._ycenter = (self._height - 1) // 2\n",
    "\n",
    "    def _map(self, i, j, ofocinv, dim):\n",
    "\n",
    "        xd = i - self._xcenter\n",
    "        yd = j - self._ycenter\n",
    "\n",
    "        rd = np.hypot(xd, yd)\n",
    "        phiang = np.arctan(ofocinv * rd)\n",
    "\n",
    "        if self._dtype == \"linear\":\n",
    "            ifoc = dim * 180 / (self._fov * np.pi)\n",
    "            rr = ifoc * phiang\n",
    "            # rr = \"rr={}*phiang;\".format(ifoc)\n",
    "\n",
    "        elif self._dtype == \"equalarea\":\n",
    "            ifoc = dim / (2.0 * np.sin(self._fov * np.pi / 720))\n",
    "            rr = ifoc * np.sin(phiang / 2)\n",
    "            # rr = \"rr={}*sin(phiang/2);\".format(ifoc)\n",
    "\n",
    "        elif self._dtype == \"orthographic\":\n",
    "            ifoc = dim / (2.0 * np.sin(self._fov * np.pi / 360))\n",
    "            rr = ifoc * np.sin(phiang)\n",
    "            # rr=\"rr={}*sin(phiang);\".format(ifoc)\n",
    "\n",
    "        elif self._dtype == \"stereographic\":\n",
    "            ifoc = dim / (2.0 * np.tan(self._fov * np.pi / 720))\n",
    "            rr = ifoc * np.tan(phiang / 2)\n",
    "\n",
    "        rdmask = rd != 0\n",
    "        xs = xd.copy()\n",
    "        ys = yd.copy()\n",
    "\n",
    "        xs[rdmask] = (rr[rdmask] / rd[rdmask]) * xd[rdmask] + self._xcenter\n",
    "        ys[rdmask] = (rr[rdmask] / rd[rdmask]) * yd[rdmask] + self._ycenter\n",
    "\n",
    "        xs[~rdmask] = 0\n",
    "        ys[~rdmask] = 0\n",
    "\n",
    "        xs = xs.astype(int)\n",
    "        ys = ys.astype(int)\n",
    "        return xs, ys\n",
    "\n",
    "    def convert(self, outfile=None):\n",
    "        if self._format == \"circular\":\n",
    "            dim = min(self._width, self._height)\n",
    "        elif self._format == \"fullframe\":\n",
    "            dim = np.sqrt(self._width ** 2.0 + self._height ** 2.0)\n",
    "\n",
    "        if self._radius is not None:\n",
    "            dim = 2 * self._radius\n",
    "\n",
    "        # compute output (perspective) focal length and its inverse from ofov\n",
    "        # phi=fov/2; r=N/2\n",
    "        # r/f=tan(phi);\n",
    "        # f=r/tan(phi);\n",
    "        # f= (N/2)/tan((fov/2)*(pi/180)) = N/(2*tan(fov*pi/360))\n",
    "\n",
    "        ofoc = dim / (2 * np.tan(self._pfov * np.pi / 360))\n",
    "        ofocinv = 1.0 / ofoc\n",
    "\n",
    "        i = np.arange(self._width)\n",
    "        j = np.arange(self._height)\n",
    "        i, j = np.meshgrid(i, j)\n",
    "\n",
    "        xs, ys, = self._map(i, j, ofocinv, dim)\n",
    "        img = self._image.copy()\n",
    "\n",
    "        img[i, j, :] = self._image[xs, ys, :]\n",
    "        if outfile is not None:\n",
    "            cv.imwrite(outfile, img)\n",
    "        return img\n",
    "\n",
    "    def _start_att(self, vkwargs, kwargs):\n",
    "        \"\"\"\n",
    "        Starting atributes\n",
    "        \"\"\"\n",
    "        pin = []\n",
    "\n",
    "        for key, value in kwargs.items():\n",
    "            if key not in vkwargs:\n",
    "                raise NameError(\"Invalid key {}\".format(key))\n",
    "            else:\n",
    "                pin.append(key)\n",
    "                setattr(self, \"_{}\".format(key), value)\n",
    "\n",
    "        pin = set(pin)\n",
    "        rkeys = set(vkwargs.keys()) - pin\n",
    "        for key in rkeys:\n",
    "            setattr(self, \"_{}\".format(key), vkwargs[key])"
   ]
  },
  {
   "cell_type": "code",
   "execution_count": null,
   "metadata": {
    "id": "jlXJu40r64wI"
   },
   "outputs": [],
   "source": [
    "def sky_image_processing(img_path):\n",
    "\n",
    "  # 2. Convert a fish-eye image to the flat image\n",
    "  dtype = 'linear'\n",
    "  format = 'fullframe'\n",
    "  fov = 180\n",
    "  pfov = 120\n",
    "\n",
    "  new_image = Defisheye(img_path, dtype=dtype, format=format, fov=fov, pfov=pfov).convert()\n",
    "\n",
    "  #cv2_imshow(new_image)\n",
    "  #cv2_imshow(cv.imread(img_path))\n",
    "\n",
    "  # Solar Position Detection\n",
    "  gray = cv.cvtColor(new_image, cv.COLOR_BGR2GRAY)\n",
    "\n",
    "  rows = gray.shape[0]\n",
    "  circles = cv.HoughCircles(gray, cv.HOUGH_GRADIENT, 1, rows / 8,\n",
    "  param1=100, param2=30,\n",
    "  minRadius=1, maxRadius=30)\n",
    "\n",
    "  if circles is not None:\n",
    "    circles = np.uint16(np.around(circles))\n",
    "    for i in circles[0, :]:\n",
    "      center = (i[0], i[1])\n",
    "      # circle center\n",
    "      cv.circle(new_image, center, 1, (0, 100, 100), 3)\n",
    "      # circle outline\n",
    "      radius = i[2]\n",
    "      cv.circle(new_image, center, radius, (255, 0, 255), 3)\n",
    "\n",
    "  #cv2_imshow(new_image)\n",
    "\n",
    "  #3. Convert the image into Color segmentation\n",
    "  # Color segmentation\n",
    "  color_seg = cv.cvtColor(new_image, cv.COLORMAP_RAINBOW )\n",
    "  #cv2_imshow(color_seg)\n",
    "\n",
    "  #4. Classify the pixels using threshold pixel value\n",
    "  ret3,cloud = cv.threshold(color_seg,150,255,cv.THRESH_BINARY_INV)\n",
    "  #cv2_imshow(cloud)\n",
    "\n",
    "  #5.Convert the cloud pixel to cloud cover\n",
    "  cloud_pixel = len([i for i in cloud.flatten() if i <= 150])\n",
    "  total_pixel = len(cloud.flatten())\n",
    "\n",
    "  cloud_cover = (cloud_pixel/total_pixel)*100\n",
    "  return cloud_cover\n",
    "\n"
   ]
  },
  {
   "cell_type": "markdown",
   "metadata": {
    "id": "tcr_lq2KB0z5"
   },
   "source": [
    "# 1. Load Images"
   ]
  },
  {
   "cell_type": "code",
   "execution_count": null,
   "metadata": {
    "colab": {
     "base_uri": "https://localhost:8080/"
    },
    "id": "6wIvK3FLwLj_",
    "outputId": "e78e6f9c-5250-496a-be3d-815381fe3ef3"
   },
   "outputs": [],
   "source": [
    "path_to_downloaded_2014 = tf.keras.utils.get_file(origin='https://zenodo.org/records/2826939/files/Folsom_sky_images_2014.tar.bz2',fname='Folsom_sky_images_2015', archive_format='tar', untar=True)\n",
    "path_to_downloaded_2015 = tf.keras.utils.get_file(origin='https://zenodo.org/records/2826939/files/Folsom_sky_images_2015.tar.bz2',fname='Folsom_sky_images_2016', archive_format='tar', untar=True)\n",
    "path_to_downloaded_2016 = tf.keras.utils.get_file(origin='https://zenodo.org/records/2826939/files/Folsom_sky_images_2016.tar.bz2',fname='Folsom_sky_images_2017', archive_format='tar', untar=True)"
   ]
  },
  {
   "cell_type": "code",
   "execution_count": null,
   "metadata": {
    "colab": {
     "base_uri": "https://localhost:8080/",
     "height": 35
    },
    "id": "gZ_SFDJs0zpL",
    "outputId": "0efa5cf2-0463-4793-cecb-735c6badbcda"
   },
   "outputs": [],
   "source": [
    "directory_path = '/'.join(path_to_downloaded_2014.split(\"/\")[:-1])\n",
    "directory_path"
   ]
  },
  {
   "cell_type": "code",
   "execution_count": null,
   "metadata": {
    "colab": {
     "base_uri": "https://localhost:8080/"
    },
    "id": "nD3KqUVQ0M5w",
    "outputId": "1c6bda6d-de83-4812-bc28-7b958e94f296"
   },
   "outputs": [],
   "source": [
    "import tarfile\n",
    "# Extract the contents of the tar.bz2 file\n",
    "with tarfile.open(path_to_downloaded_2014, 'r:bz2') as tar:\n",
    "    tar.extractall(directory_path)\n",
    "\n",
    "with tarfile.open(path_to_downloaded_2015, 'r:bz2') as tar:\n",
    "    tar.extractall(directory_path)\n",
    "\n",
    "with tarfile.open(path_to_downloaded_2016, 'r:bz2') as tar:\n",
    "    tar.extractall(directory_path)\n",
    "\n",
    "print(\"Extraction completed.\")\n"
   ]
  },
  {
   "cell_type": "code",
   "execution_count": null,
   "metadata": {
    "id": "eezyqI-6bnP7"
   },
   "outputs": [],
   "source": [
    "glob((os.path.join(directory_path))+\"/*\")"
   ]
  },
  {
   "cell_type": "code",
   "execution_count": null,
   "metadata": {
    "colab": {
     "base_uri": "https://localhost:8080/",
     "height": 391
    },
    "id": "TsXSVHAAoG1j",
    "outputId": "9bd35946-6c1e-4b85-c02f-a404749eca13"
   },
   "outputs": [],
   "source": [
    "from glob import glob\n",
    "img_data = []\n",
    "years =['2014','2015','2016']\n",
    "for year in years:\n",
    "  for image_month in glob((os.path.join(directory_path,year))+\"/*\"):\n",
    "    for image_day in glob((os.path.join(directory_path,year,image_month))+\"/*\"):\n",
    "      image_list = glob((os.path.join(directory_path,year,image_month,image_day))+\"/*\")\n",
    "      for img_path in image_list:\n",
    "        cloud_cover = round(sky_image_processing(img_path),2)\n",
    "        img_date = img_path.split(\"/\")[-1].split(\".\")[0]\n",
    "        img_data.append([img_date,cloud_cover])"
   ]
  },
  {
   "cell_type": "code",
   "execution_count": null,
   "metadata": {
    "colab": {
     "base_uri": "https://localhost:8080/",
     "height": 206
    },
    "id": "0n2DqNU-Bg4d",
    "outputId": "9338a09c-24e2-4da1-8622-90c1c060269b"
   },
   "outputs": [],
   "source": [
    "# prepare the dataframe\n",
    "sky_features_df = pd.DataFrame(img_data,columns=['Datetime','Cloud Cover Ratio'])\n",
    "sky_features_df['Datetime'] = sky_features_df['Datetime'].str.replace(\"_\",\" \")\n",
    "sky_features_df.head()"
   ]
  },
  {
   "cell_type": "code",
   "execution_count": null,
   "metadata": {
    "colab": {
     "base_uri": "https://localhost:8080/"
    },
    "id": "aByuyQpSaZim",
    "outputId": "b342d9bb-e408-470a-9891-9e11ab200715"
   },
   "outputs": [],
   "source": [
    "sky_features_df.shape"
   ]
  },
  {
   "cell_type": "code",
   "execution_count": null,
   "metadata": {
    "id": "4hlT-nohYr41"
   },
   "outputs": [],
   "source": [
    "# Feature Engineering\n",
    "sky_features_df['Year'] = pd.to_datetime(sky_features_df['Datetime']).dt.year\n",
    "sky_features_df['Month'] = pd.to_datetime(sky_features_df['Datetime']).dt.month\n",
    "sky_features_df['Day'] = pd.to_datetime(sky_features_df['Datetime']).dt.day\n",
    "sky_features_df['Hour'] = pd.to_datetime(sky_features_df['Datetime']).dt.hour\n",
    "sky_features_df['Minute'] = pd.to_datetime(sky_features_df['Datetime']).dt.minute"
   ]
  },
  {
   "cell_type": "code",
   "execution_count": null,
   "metadata": {
    "colab": {
     "base_uri": "https://localhost:8080/"
    },
    "id": "xeIpmygsZD5A",
    "outputId": "73e58c54-0635-4b4c-90a3-acb81878efbc"
   },
   "outputs": [],
   "source": [
    "sky_features_df = sky_features_df.groupby(['Year','Month','Day','Hour','Minute']).mean().reset_index()"
   ]
  },
  {
   "cell_type": "code",
   "execution_count": null,
   "metadata": {
    "colab": {
     "base_uri": "https://localhost:8080/"
    },
    "id": "D9IagO1waU-9",
    "outputId": "3e2af107-ab1e-4a09-b59f-c80633116568"
   },
   "outputs": [],
   "source": [
    "sky_features_df.shape"
   ]
  },
  {
   "cell_type": "code",
   "execution_count": null,
   "metadata": {
    "id": "U2Fse2-qz1aw"
   },
   "outputs": [],
   "source": []
  }
 ],
 "metadata": {
  "accelerator": "TPU",
  "colab": {
   "provenance": []
  },
  "kernelspec": {
   "display_name": "Python 3",
   "language": "python",
   "name": "python3"
  },
  "language_info": {
   "codemirror_mode": {
    "name": "ipython",
    "version": 3
   },
   "file_extension": ".py",
   "mimetype": "text/x-python",
   "name": "python",
   "nbconvert_exporter": "python",
   "pygments_lexer": "ipython3",
   "version": "3.6.13"
  }
 },
 "nbformat": 4,
 "nbformat_minor": 1
}
